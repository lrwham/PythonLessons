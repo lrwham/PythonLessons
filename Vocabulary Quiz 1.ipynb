{
  "nbformat": 4,
  "nbformat_minor": 0,
  "metadata": {
    "colab": {
      "provenance": [],
      "toc_visible": true,
      "authorship_tag": "ABX9TyO/CiIa7ufGmg2YZEK+Jhkv",
      "include_colab_link": true
    },
    "kernelspec": {
      "name": "python3",
      "display_name": "Python 3"
    },
    "language_info": {
      "name": "python"
    }
  },
  "cells": [
    {
      "cell_type": "markdown",
      "metadata": {
        "id": "view-in-github",
        "colab_type": "text"
      },
      "source": [
        "<a href=\"https://colab.research.google.com/github/lrwham/PythonLessons/blob/main/Vocabulary%20Quiz%201.ipynb\" target=\"_parent\"><img src=\"https://colab.research.google.com/assets/colab-badge.svg\" alt=\"Open In Colab\"/></a>"
      ]
    },
    {
      "cell_type": "code",
      "source": [
        "# Run this block of code first!\n",
        "!pip3 install ColabTurtle"
      ],
      "metadata": {
        "id": "gCd5BWsTw0VD"
      },
      "execution_count": null,
      "outputs": []
    },
    {
      "cell_type": "markdown",
      "source": [
        "# Foundations of Computer Science Vocabulary"
      ],
      "metadata": {
        "id": "LvEbC9AKd7VI"
      }
    },
    {
      "cell_type": "markdown",
      "source": [
        "\n",
        "## Programmer\n",
        "  * A programmer is a human that writes code to control a computer.\n"
      ],
      "metadata": {
        "id": "1pqXo4r31fE3"
      }
    },
    {
      "cell_type": "markdown",
      "source": [
        "\n",
        "## Program (app)\n",
        "  * A program is a written set of instructions that can be executed by a computer.\n"
      ],
      "metadata": {
        "id": "iz6iUTJJ1hmv"
      }
    },
    {
      "cell_type": "markdown",
      "source": [
        "\n",
        "## Algorithm\n",
        "  * An algorithm is a list of steps to finish a task. A recipe for baking cookies is an example of an algorithm.\n"
      ],
      "metadata": {
        "id": "54bQK-Ai1kq1"
      }
    },
    {
      "cell_type": "markdown",
      "source": [
        "\n",
        "## Bug\n",
        "  * A bug is a part of a program that does not work correctly. These are mistakes made by humans that can cause unexpected actions by the program.\n"
      ],
      "metadata": {
        "id": "EVdkWLhl1mXI"
      }
    },
    {
      "cell_type": "markdown",
      "source": [
        "## Debugging\n",
        "  * Debugging is the process of finding and fixing problems in an algorithm or program.  \n"
      ],
      "metadata": {
        "id": "ahMBf2Vn1n-0"
      }
    },
    {
      "cell_type": "markdown",
      "source": [
        "\n",
        "## Sequencing\n",
        "  * Putting commands in the correct order so they can be followed successfully.\n"
      ],
      "metadata": {
        "id": "7yqG79Lh1rSK"
      }
    },
    {
      "cell_type": "markdown",
      "source": [
        "\n",
        "## Variable\n",
        "  * A variable is a container for holding a value. Variables are named by the programmer.\n",
        "  * Example: `name = 'Simon'`\n",
        "    * `'Simon'` is the value of the variable named ```name```\n",
        "  * Variables allow programs to remember data.\n",
        "\n",
        "### Variable naming\n",
        "  * Variable names should describe their intended purpose. `grade` and `count` might be good variable names depending on their purpose.\n",
        "  * Inappropriate variables names do not clearly describe their intended purpose. Rarely, it might be ok to name a variable `x`, `y`, or `z`. In most cases, it will be best to name a variable with a more descriptive name like `xPosition` or `zHeight` (assuming you are using XYZ to represent 3D coordinates).\n"
      ],
      "metadata": {
        "id": "7iv46SOS1sf9"
      }
    },
    {
      "cell_type": "markdown",
      "source": [
        "## Comments\n",
        "Comments are lines of text that are ignored by the computer and are intended to be read by humans. They are used to add explanations.\n",
        "\n",
        "Use the `#` character to start a comment.\n",
        "\n",
        "```python\n",
        "# This app will print 'Hello, World!' TWICE only\n",
        "print('Hello, World!')\n",
        "#print('Hello, World!')\n",
        "print('Hello, World!')\n",
        "```\n",
        "\n",
        "Comments can also be placed at the end of a line.\n",
        "```python\n",
        "# This app will STILL print 'Hello, World!' TWICE exactly\n",
        "print('Hello, World!') # first time\n",
        "#print('Hello, World!')\n",
        "print('Hello, World!') # second time\n",
        "```"
      ],
      "metadata": {
        "id": "w6_A7Zp71cKe"
      }
    },
    {
      "cell_type": "markdown",
      "source": [
        "\n",
        "## Data Type\n",
        "  * A variables data type describes what kind of information it holds.\n"
      ],
      "metadata": {
        "id": "5zhhN1k-zp72"
      }
    },
    {
      "cell_type": "markdown",
      "source": [
        "\n",
        "### Integer - data type\n",
        "  * Often simply called **ints**\n",
        "  * An integer is a type of data. Integers are whole numbers. No decimals or fractions.\n",
        "  * Examples: 17, 200, 19\n"
      ],
      "metadata": {
        "id": "PboFxVtFzrqu"
      }
    },
    {
      "cell_type": "markdown",
      "source": [
        "\n",
        "### Floating point  - data type\n",
        "  * Often simply called **floats**\n",
        "  * Floats are a type of data. They have a fractional or decimal part.\n",
        "  * Examples: 3.14159, 100.001, 399.233333333\n"
      ],
      "metadata": {
        "id": "C6hEoTvrzssZ"
      }
    },
    {
      "cell_type": "markdown",
      "source": [
        "\n",
        "### Character - data type\n",
        "  * A character is a type of data that represents a single digit, letter of the alphabet, punctuation symbol, or any other similar symbol you might see on a keyboard. This might include symbols from other languages and mathematics.\n",
        "  * Examples: `A`, `9`, `a`, `©`, `+`, `#`, ` `\n",
        "    * That last example is a space.\n"
      ],
      "metadata": {
        "id": "Vz37Kml7zteR"
      }
    },
    {
      "cell_type": "markdown",
      "source": [
        "\n",
        "### String - data type\n",
        "  * Strings are a type of data that represents a sequence of characters. In Python, strings will be written between a pair of single or double quotes.\n",
        "  * Examples: `'Hello, world!'`, `\"Good morning!\"`\n"
      ],
      "metadata": {
        "id": "pQ7vFWYZzukG"
      }
    },
    {
      "cell_type": "markdown",
      "source": [
        "### Boolean - data type\n",
        "* Boolean values are either `True` or `False`.\n",
        "* These may also be expressed as follows\n",
        "  * `on` and `off`\n",
        "  * `1` and `0`\n",
        "\n"
      ],
      "metadata": {
        "id": "OiZyauAlEltT"
      }
    },
    {
      "cell_type": "markdown",
      "source": [
        "#### Boolean examples\n",
        "`6 > 7` is a `False` statement.\n",
        "\n",
        "`7 == 7` is a `True` statement.\n",
        "\n",
        "---\n",
        "In the following example, `age < votingLimit` will evaluate `12 < 18`.\n",
        "\n",
        "Since that is `True`, `'You can not vote.'` will print.\n",
        "\n",
        "```python\n",
        "age = 12\n",
        "votingLimit = 18\n",
        "if age < votingLimit:\n",
        "  print('You can not vote.')\n",
        "else:\n",
        "  print('You may vote.')\n",
        "```\n",
        "\n",
        "---\n",
        "\n",
        "In the following example, `password == userInput` will either be `True` or `False` depending on what the user enters.\n",
        "```python\n",
        "password = '123abc'\n",
        "userInput = input('Enter your password ')\n",
        "\n",
        "if password == userInput:\n",
        "  print('You entered the correct password.')\n",
        "```"
      ],
      "metadata": {
        "id": "7qaWMOJ8FJUV"
      }
    },
    {
      "cell_type": "markdown",
      "source": [
        "### List - data type\n",
        "A list is a collection. This means it can hold multiple independent values. \n",
        "\n",
        "Lists are created like any other variable with one minor twist. Use square brackets and commas to hold the multiple values.\n",
        "\n",
        "```python\n",
        "todo = ['wash car', 'buy milk', 'write email', 'study math']\n",
        "```\n",
        "```python\n",
        "phoneNumbers = [7701234567, 4041234567, 6781234567]\n",
        "```\n",
        "\n",
        "\n",
        "Consider all of the names for all of the students in a class.\n",
        "\n",
        "Using seperate variables for every name would be a nightmare. Imagine 20 different variables that you now need to keep track of, then try printing all 20 names!"
      ],
      "metadata": {
        "id": "M9HrnFlLz06t"
      }
    },
    {
      "cell_type": "code",
      "source": [
        "# Using 20 separate variables\n",
        "name1 = \"Aaliyah\"\n",
        "name2 = \"Brianna\"\n",
        "name3 = \"Carlos\"\n",
        "name4 = \"David\"\n",
        "name5 = \"Evelyn\"\n",
        "name6 = \"Fatima\"\n",
        "name7 = \"Gabriel\"\n",
        "name8 = \"Haley\"\n",
        "name9 = \"Ismail\"\n",
        "name10 = \"Jasmine\"\n",
        "name11 = \"Kamal\"\n",
        "name12 = \"Lena\"\n",
        "name13 = \"Mohammed\"\n",
        "name14 = \"Natalie\"\n",
        "name15 = \"Omar\"\n",
        "name16 = \"Parveen\"\n",
        "name17 = \"Qasim\"\n",
        "name18 = \"Ravi\"\n",
        "name19 = \"Sophia\"\n",
        "name20 = \"Tariq\"\n",
        "\n",
        "# Using a single list\n",
        "names = [\"Aaliyah\", \"Brianna\", \"Carlos\", \"David\", \"Evelyn\",\n",
        "        \"Fatima\", \"Gabriel\", \"Haley\", \"Ismail\", \"Jasmine\",\n",
        "        \"Kamal\", \"Lena\", \"Mohammed\", \"Natalie\", \"Omar\",\n",
        "        \"Parveen\", \"Qasim\", \"Ravi\", \"Sophia\", \"Tariq\"]\n",
        "\n",
        "# With the list, printing every name takes TWO lines of code.\n",
        "for student in names:\n",
        "  print(student)\n",
        "\n",
        "# With the 20-variables option, it will take TWENTY lines of code.\n"
      ],
      "metadata": {
        "id": "4v0xiLjr0dTn"
      },
      "execution_count": null,
      "outputs": []
    },
    {
      "cell_type": "markdown",
      "source": [
        "### Other Data Types\n",
        "Yup, there are many more...\n",
        "\n",
        "We won't cover all of them. Here is a list. This is not a comprehensive list. You can actually create your own data types in some languages.\n",
        "\n",
        "1. integer (whole numbers such as -1, 0, 1, 2, etc.)\n",
        "1. float (floating-point decimal numbers)\n",
        "1. char (single characters, usually stored as a number)\n",
        "1. string (a sequence of characters)\n",
        "1. boolean (true or false values)\n",
        "1. list (ordered collection of elements)\n",
        "1. tuple (ordered, immutable collection of elements)\n",
        "1. dictionary (unordered collection of key-value pairs)\n",
        "1. array (a collection of elements of the same data type)\n",
        "1. struct or record (a collection of elements of different data types)\n",
        "1. enum (enumerated type, a set of named values)\n",
        "1. pointer (a memory address)\n",
        "1. dynamic array (an array that can grow or shrink in size)\n",
        "1. linked list (a data structure where each element points to the next element)\n",
        "1. stack (a last-in-first-out data structure)\n",
        "1. queue (a first-in-first-out data structure)\n",
        "1. tree (a hierarchical data structure)\n",
        "1. graph (a data structure where elements are connected with edges)\n"
      ],
      "metadata": {
        "id": "z3dChYFW1ne4"
      }
    },
    {
      "cell_type": "markdown",
      "source": [
        "\n",
        "## Prompt\n",
        "  * A prompt is a message on the computer screen that waits for input from the user. The Python input() command creates a prompt. The user can type a response.\n"
      ],
      "metadata": {
        "id": "4jm37IDz1wF3"
      }
    },
    {
      "cell_type": "markdown",
      "source": [
        "\n",
        "## Control Flow\n",
        "  * Control flow describes the order in which a program executes its control. The order a program runs can be affected by loops and conditional statements.\n",
        "  * In many situations, a Python program simply runs from line 1 to the last line in order.\n"
      ],
      "metadata": {
        "id": "1T3crArH1zMx"
      }
    },
    {
      "cell_type": "markdown",
      "source": [
        "\n",
        "## Conditional Statements\n",
        "  * Conditional statements allow a block of code to only execute if a conditions is met. The **if** statement is the classic example.\n",
        "  * Conditionals rely on **boolean** statements. That is, the condition must be either `True` or `False`.\n",
        "  * When there are two conditions **if** will be followed by an **else**. The else block will execute if the **if** block does NOT.\n",
        "  * When there are more than two conditions, the **if** block will be followed by one or more **elif** blocks. A final **else** block might also be used.\n",
        "  * Example: A voting machine should only allow an individual to vote **if** their **age** is at least 18.\n"
      ],
      "metadata": {
        "id": "ZrjT0LRo15uv"
      }
    },
    {
      "cell_type": "code",
      "source": [
        "age = input('How many years old are you? => ')\n",
        "age = int(age)\n",
        "\n",
        "if age < 18:\n",
        "  print('You are too young to vote')\n",
        "else:\n",
        "  print('You may vote.')\n"
      ],
      "metadata": {
        "id": "XHqqOS1ix4vi"
      },
      "execution_count": null,
      "outputs": []
    },
    {
      "cell_type": "markdown",
      "source": [
        "### Conditional Statements (second example)\n",
        "This example has multiple conditions to check. It uses an **if** statement, multiple **elif** statements, and an **else** statement."
      ],
      "metadata": {
        "id": "6jOkC29bzLXu"
      }
    },
    {
      "cell_type": "code",
      "source": [
        "color = input(\"What's your favorite color? => \")\n",
        "\n",
        "if color == \"red\":\n",
        "    print(\"Red is a bold color!\")\n",
        "elif color == \"blue\":\n",
        "    print(\"Blue is a calm color!\")\n",
        "elif color == \"green\":\n",
        "    print(\"Green is a refreshing color!\")\n",
        "else:\n",
        "    print(f\"{color.title()} is an interesting color choice!\")\n"
      ],
      "metadata": {
        "id": "caLlboNbzKSc"
      },
      "execution_count": null,
      "outputs": []
    },
    {
      "cell_type": "markdown",
      "source": [
        "## Loop\n",
        "  * A loop allows a block of code to be repeated. Python has **for** loops and **while** loops.\n",
        "  * The code within a loop code block will continously repeat until a condition is met.\n",
        "  * It is also possible for a loop to never run if the condition is never met.\n",
        "  * In this example, the loop will say happy birthday multiple times depending on the users age."
      ],
      "metadata": {
        "id": "hqe1eDNNxyuC"
      }
    },
    {
      "cell_type": "code",
      "execution_count": null,
      "metadata": {
        "id": "fIaV51b8d40V"
      },
      "outputs": [],
      "source": [
        "age = input('How many years old are you? => ')\n",
        "age = int(age)\n",
        "\n",
        "for year in range(age):\n",
        "  print('Happy Birthday!')"
      ]
    },
    {
      "cell_type": "markdown",
      "source": [
        "### Loop (second example)\n",
        "This example uses a **while** loop. It will repeat as long as the user enters `yes`."
      ],
      "metadata": {
        "id": "gE-rdhtR0VUe"
      }
    },
    {
      "cell_type": "code",
      "source": [
        "userChoice = input('Enter \"yes\" to continue => ')\n",
        "\n",
        "while userChoice == 'yes':\n",
        "  userChoice = input('Enter \"yes\" to continue => ')\n"
      ],
      "metadata": {
        "id": "SZU00Ejc0d1N"
      },
      "execution_count": null,
      "outputs": []
    },
    {
      "cell_type": "markdown",
      "source": [
        "## Function\n",
        "A function is a piece of code that performs a specific task. Functions are like little programs within a program. Functions can take input and return output. They can be called by other parts of the program.\n",
        "The Python print and input functions are two examples."
      ],
      "metadata": {
        "id": "qAi7DLzCuDWJ"
      }
    },
    {
      "cell_type": "code",
      "source": [
        "print('Welcome to the app!')\n",
        "name = input('Enter your name => ')\n",
        "print(f'Hello, {name}!')"
      ],
      "metadata": {
        "id": "L8kuzFruua-4"
      },
      "execution_count": null,
      "outputs": []
    },
    {
      "cell_type": "markdown",
      "source": [
        "### Function Parameters and Arguments\n",
        "When using a function, it is common to **pass** values or variables as **arguments** to the function. These **arguments** can be used by the function. In the case of the print function, whatever is passed is displayed on the screen.\n",
        "```python\n",
        "print('Hello, World!')\n",
        "```\n",
        "The string `'Hello, World!'` is the argument passed to the print function.\n",
        "\n",
        "As a second example, consider lists and a function like `min()` or `max()`. In this case a list called `ages` will be passed as the **argument** to each and the result will be printed out."
      ],
      "metadata": {
        "id": "hKCsTHi1ujWB"
      }
    },
    {
      "cell_type": "code",
      "source": [
        "ages = [17,16,18,14]\n",
        "youngest = min(ages)\n",
        "oldest = max(ages)\n",
        "print(f'The oldest person is {oldest}. The youngest is {youngest}')"
      ],
      "metadata": {
        "id": "_xEYroQZvrkH"
      },
      "execution_count": null,
      "outputs": []
    },
    {
      "cell_type": "markdown",
      "source": [
        "### Function Definition\n",
        "Functions need to be defined before they can be used. The `print()` and `input()` function were defined for you. You can define your own functions.\n",
        "\n",
        "This essentially allows you to teach the computer a new skill.\n",
        "\n",
        "If your function needs information passed to it, define **parameters**.\n",
        "\n",
        "**Parameters** allow the function to take in values to use."
      ],
      "metadata": {
        "id": "SoxizyiyuSfe"
      }
    },
    {
      "cell_type": "code",
      "source": [
        "import ColabTurtle.Turtle as turtle\n",
        "\n",
        "turtle.initializeTurtle(initial_speed=7)\n",
        "\n",
        "def drawShape(numberOfSides, sideLength):\n",
        "  angle = 360 / numberOfSides\n",
        "\n",
        "  for i in range(numberOfSides):\n",
        "    turtle.forward(sideLength)\n",
        "    turtle.left(angle)"
      ],
      "metadata": {
        "id": "A_5HN1hpwEHX"
      },
      "execution_count": null,
      "outputs": []
    },
    {
      "cell_type": "markdown",
      "source": [
        "### Function Call\n",
        "To use a function, call it. If the function has any parameters defined, you must pass arguments."
      ],
      "metadata": {
        "id": "D8ljgHSkuTwQ"
      }
    },
    {
      "cell_type": "code",
      "source": [
        "drawShape(5, 60)"
      ],
      "metadata": {
        "id": "D43jI7FOx3Pj"
      },
      "execution_count": null,
      "outputs": []
    },
    {
      "cell_type": "code",
      "source": [
        "turtle.clear()\n",
        "drawShape(12,20)"
      ],
      "metadata": {
        "id": "jQVruvCayb3H"
      },
      "execution_count": null,
      "outputs": []
    },
    {
      "cell_type": "markdown",
      "source": [],
      "metadata": {
        "id": "krKvSouE0dKy"
      }
    }
  ]
}