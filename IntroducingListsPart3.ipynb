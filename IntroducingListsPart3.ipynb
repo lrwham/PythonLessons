{
  "nbformat": 4,
  "nbformat_minor": 0,
  "metadata": {
    "colab": {
      "provenance": [],
      "toc_visible": true,
      "authorship_tag": "ABX9TyPNNlDf6//Rqw/fc1ta6PMo",
      "include_colab_link": true
    },
    "kernelspec": {
      "name": "python3",
      "display_name": "Python 3"
    },
    "language_info": {
      "name": "python"
    }
  },
  "cells": [
    {
      "cell_type": "markdown",
      "metadata": {
        "id": "view-in-github",
        "colab_type": "text"
      },
      "source": [
        "<a href=\"https://colab.research.google.com/github/lrwham/PythonLessons/blob/main/IntroducingListsPart3.ipynb\" target=\"_parent\"><img src=\"https://colab.research.google.com/assets/colab-badge.svg\" alt=\"Open In Colab\"/></a>"
      ]
    },
    {
      "cell_type": "markdown",
      "source": [
        "# Introducing Lists Part 3\n"
      ],
      "metadata": {
        "id": "mFFYAXDjOZDw"
      }
    },
    {
      "cell_type": "markdown",
      "source": [
        "## Functions\n",
        "We aren't discussing functions today, but this averaging algorithm is going to be useful later in these notes. To save time and space, I'm going to **define** a function for averaging a list."
      ],
      "metadata": {
        "id": "ZHfd55cQUs25"
      }
    },
    {
      "cell_type": "code",
      "source": [
        "def averageList(listHere):\n",
        "  countOfGrades = len(listHere)\n",
        "  total = sum(listHere)\n",
        "  average = total / countOfGrades\n",
        "  return average\n"
      ],
      "metadata": {
        "id": "QVJppdtnU5_y"
      },
      "execution_count": null,
      "outputs": []
    },
    {
      "cell_type": "markdown",
      "source": [
        "## More Advanced with Lists\n",
        "For these next few tricks, I'll only offer examples. In the future, we will dive deeper, explain, and understand.\n",
        "\n",
        "Assume you are tracking your grades in a list. Now we'll code up a few common situations.\n",
        "\n",
        "1. Your class took another test and you earned a new grade of 78\n",
        "1. You made up a missing assignment and replaced the 0 with a 98 \n",
        "1. Your teacher dropped your lowest grade"
      ],
      "metadata": {
        "id": "1wz7fGxHT-6i"
      }
    },
    {
      "cell_type": "code",
      "source": [
        "# This is is the list for the three examples.\n",
        "grades = [85, 90, 78, 99, 89, 100, 100, 0]\n"
      ],
      "metadata": {
        "id": "DijD2xoFOLed"
      },
      "execution_count": null,
      "outputs": []
    },
    {
      "cell_type": "code",
      "source": [
        "# Example #1\n",
        "# Your class took another test and you earned a new grade of 78\n",
        "averageBefore = str(averageList(grades))\n",
        "\n",
        "print(\"List before: \" + str(grades))\n",
        "newTestGrade = 78\n",
        "grades.append(newTestGrade)\n",
        "print(\"List after: \" + str(grades))\n",
        "\n",
        "averageAfter = str(averageList(grades))\n",
        "\n",
        "print(\"Average before the new test: \" + averageBefore)\n",
        "print(\"Average after the new test: \" + averageAfter)\n",
        "print() # blank line"
      ],
      "metadata": {
        "colab": {
          "base_uri": "https://localhost:8080/"
        },
        "id": "zNRmRsiDUaf4",
        "outputId": "5960927a-7f02-4e95-8100-898735f17e28"
      },
      "execution_count": null,
      "outputs": [
        {
          "output_type": "stream",
          "name": "stdout",
          "text": [
            "List before: [85, 90, 78, 99, 89, 100, 100, 0]\n",
            "List after: [85, 90, 78, 99, 89, 100, 100, 0, 78]\n",
            "Average before the new test: 80.125\n",
            "Average after the new test: 79.88888888888889\n",
            "\n"
          ]
        }
      ]
    },
    {
      "cell_type": "code",
      "source": [
        "# Example #2\n",
        "# You made up the missing assignment and replaced the 0 with a 98\n",
        "averageBefore = str(averageList(grades))\n",
        "\n",
        "print(\"List after: \" + str(grades))\n",
        "grades.remove(0)\n",
        "grades.append(98)\n",
        "print(\"List after: \" + str(grades))\n",
        "\n",
        "averageAfter = str(averageList(grades))\n",
        "\n",
        "print(\"Average before the makeup: \" + averageBefore)\n",
        "print(\"Average after the makeup: \" + averageAfter)\n",
        "print() # blank line"
      ],
      "metadata": {
        "colab": {
          "base_uri": "https://localhost:8080/"
        },
        "id": "BQ9sQr6qV_It",
        "outputId": "11220946-c0bb-46f0-8a16-355a114ed87e"
      },
      "execution_count": null,
      "outputs": [
        {
          "output_type": "stream",
          "name": "stdout",
          "text": [
            "List after: [85, 90, 78, 99, 89, 100, 100, 0, 78]\n",
            "List after: [85, 90, 78, 99, 89, 100, 100, 78, 98]\n",
            "Average before the makeup: 79.88888888888889\n",
            "Average after the makeup: 90.77777777777777\n",
            "\n"
          ]
        }
      ]
    },
    {
      "cell_type": "code",
      "source": [
        "# Example #3\n",
        "# Your teacher dropped you lowest grade\n",
        "averageBefore = str(averageList(grades))\n",
        "\n",
        "print(\"List after: \" + str(grades))\n",
        "lowestGrade = min(grades)\n",
        "grades.remove(lowestGrade)\n",
        "print(\"List after: \" + str(grades))\n",
        "\n",
        "averageAfter = str(averageList(grades))\n",
        "\n",
        "print(\"Average before the drop: \" + averageBefore)\n",
        "print(\"Average after the drop: \" + averageAfter)\n",
        "print() # blank line"
      ],
      "metadata": {
        "colab": {
          "base_uri": "https://localhost:8080/"
        },
        "id": "76a5AuyRWA8m",
        "outputId": "dc471dea-93a5-4359-bd4a-b2d136aad3e7"
      },
      "execution_count": null,
      "outputs": [
        {
          "output_type": "stream",
          "name": "stdout",
          "text": [
            "List after: [90, 99, 100, 100]\n",
            "List after: [99, 100, 100]\n",
            "Average before the drop: 97.25\n",
            "Average after the drop: 99.66666666666667\n",
            "\n"
          ]
        }
      ]
    },
    {
      "cell_type": "markdown",
      "source": [
        "## Append and Remove Elements\n",
        "In the three examples above you should have noticed the functions append and remove. These are the methods for adding and removing elements from a list.\n",
        "\n",
        "**Append** means to **add** to the **end**. If a list already has elements in it, appending a new element will result in the new element appearing after the preexisting elements.\n",
        "```python\n",
        "names = ['simon', 'claire', 'francis']\n",
        "names.append('Kai')\n",
        "```\n",
        "After appending 'Kai' to the list, it will appear like this.\n",
        "```python\n",
        "['simon', 'claire', 'francis', 'Kai']\n",
        "```"
      ],
      "metadata": {
        "id": "7bKICAEqOhsb"
      }
    },
    {
      "cell_type": "code",
      "source": [
        "names = ['simon', 'claire', 'francis']\n",
        "\n",
        "print('list before appending: ' + str(names))\n",
        "\n",
        "names.append('Kai')\n",
        "\n",
        "print('list after appending: ' + str(names))\n",
        "\n",
        "names.append('jack')\n",
        "\n",
        "print('list after appending again: ' + str(names))\n"
      ],
      "metadata": {
        "colab": {
          "base_uri": "https://localhost:8080/"
        },
        "id": "Td2oVVRTPdjl",
        "outputId": "62fd8fa3-ccf3-4ca8-d3df-44db605faf2c"
      },
      "execution_count": null,
      "outputs": [
        {
          "output_type": "stream",
          "name": "stdout",
          "text": [
            "list before appending: ['simon', 'claire', 'francis']\n",
            "list after appending: ['simon', 'claire', 'francis', 'Kai']\n",
            "list after appending again: ['simon', 'claire', 'francis', 'Kai', 'jack']\n"
          ]
        }
      ]
    },
    {
      "cell_type": "markdown",
      "source": [
        "### Remove\n",
        "Removing elements works in much the same way. Use the remove() function and pass the value you want removed as a parameter. If the value is in the list more than once, only the first occurence will be removed."
      ],
      "metadata": {
        "id": "AclWVs67PvQt"
      }
    },
    {
      "cell_type": "code",
      "source": [
        "names = ['simon', 'simon', 'claire', 'francis', 'Kai', 'simon']\n",
        "print(names)\n",
        "names.remove('simon')\n",
        "print(names)\n",
        "names.remove('simon')\n",
        "print(names)"
      ],
      "metadata": {
        "colab": {
          "base_uri": "https://localhost:8080/"
        },
        "id": "RxTatm1mQCaw",
        "outputId": "56baa531-e687-4d6e-ef17-36ee04aa0a34"
      },
      "execution_count": null,
      "outputs": [
        {
          "output_type": "stream",
          "name": "stdout",
          "text": [
            "['simon', 'simon', 'claire', 'francis', 'Kai', 'simon']\n",
            "['simon', 'claire', 'francis', 'Kai', 'simon']\n",
            "['claire', 'francis', 'Kai', 'simon']\n"
          ]
        }
      ]
    },
    {
      "cell_type": "markdown",
      "source": [
        "## Ordered and the Index\n",
        "Lists are ordered data structures. This means that the data is accessible using an **index**. This does NOT mean that lists sort, alphabetize, or rank elements automatically.\n",
        "\n",
        "Each element's index is an integer value that represents where in the list the element is held.\n",
        "\n",
        "The first element in the list has an index of ZERO. Each following element has an index one greater than the previous element.\n",
        "```python\n",
        "names = ['simon', 'claire', 'francis', 'Kai']\n",
        "```\n",
        "In the list of names the index for 'simon' is 0. 'claire' has an index of 1. 'Kai' has an index of 3."
      ],
      "metadata": {
        "id": "l5cYSdIhQTDe"
      }
    },
    {
      "cell_type": "markdown",
      "source": [
        "### Using the index\n",
        "Indexes are useful if you know you want to do something with a particular element in the list. If you want to replace an element, you could try something like this.\n",
        "```python\n",
        "names[2] = 'Nara'\n",
        "```"
      ],
      "metadata": {
        "id": "Ac6H03xDRgAb"
      }
    },
    {
      "cell_type": "code",
      "source": [
        "names = ['claire', 'francis', 'Kai', 'simon']\n",
        "print(names)\n",
        "names[2] = 'Nara'\n",
        "print(names)\n"
      ],
      "metadata": {
        "colab": {
          "base_uri": "https://localhost:8080/"
        },
        "id": "79C0RR_yR2wT",
        "outputId": "4c480b8c-b3a2-4f18-80aa-ccad73c157a5"
      },
      "execution_count": null,
      "outputs": [
        {
          "output_type": "stream",
          "name": "stdout",
          "text": [
            "['claire', 'francis', 'Kai', 'simon']\n",
            "['claire', 'francis', 'Nara', 'simon']\n"
          ]
        }
      ]
    }
  ]
}