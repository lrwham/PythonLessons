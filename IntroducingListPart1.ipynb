{
  "nbformat": 4,
  "nbformat_minor": 0,
  "metadata": {
    "colab": {
      "provenance": [],
      "toc_visible": true,
      "authorship_tag": "ABX9TyMnVqo/8L0Qe6Yk54MSD6rM",
      "include_colab_link": true
    },
    "kernelspec": {
      "name": "python3",
      "display_name": "Python 3"
    },
    "language_info": {
      "name": "python"
    }
  },
  "cells": [
    {
      "cell_type": "markdown",
      "metadata": {
        "id": "view-in-github",
        "colab_type": "text"
      },
      "source": [
        "<a href=\"https://colab.research.google.com/github/lrwham/PythonLessons/blob/main/IntroducingListPart1.ipynb\" target=\"_parent\"><img src=\"https://colab.research.google.com/assets/colab-badge.svg\" alt=\"Open In Colab\"/></a>"
      ]
    },
    {
      "cell_type": "markdown",
      "source": [
        "# Introducing Lists\n",
        "Lists are **collections** of items.\n",
        "* grocery list\n",
        "* to-do list\n",
        "* inventory\n",
        "* list of objectives in a game.\n",
        "\n",
        "In computer science, lists are a **data structure**. That means they hold data in an organized structure so the data can be used productively.\n",
        "\n",
        "Specifically, a list is an **ordered** set of data. We'll discuss more later about what ordered means.\n",
        "\n",
        "In Python and other languages, lists can hold collections of other data types like integers, strings, and floats.\n",
        "\n",
        "For example...\n",
        "1. A grocery list collects the items you want to purchase and would be stored in a list of **strings**\n",
        "1. a roster collects the name of students in a class and would also be a list of **strings**\n",
        "1. a grade tracker might collect and hold all the grades for a student in a particular class. Grades can be stored as **integers** or **floats** depending on how accurate they need to be.\n"
      ],
      "metadata": {
        "id": "mFFYAXDjOZDw"
      }
    },
    {
      "cell_type": "code",
      "source": [
        "groceries = ['apples', 'milk', 'bread', 'paper towels']\n",
        "roster = ['James', 'Jain', 'Claire', 'Ahmed', 'Brody']\n",
        "grades = [85, 90, 78, 99, 89, 100, 100, 0]\n",
        "gradesAsFloats = [97.6, 88.2, 89.4, 72.0, 65.2]"
      ],
      "metadata": {
        "id": "-y-Mv8F_PCsF"
      },
      "execution_count": null,
      "outputs": []
    },
    {
      "cell_type": "markdown",
      "source": [
        "In the example above, the variable **grades** holds a list. The list is a collection of numbers. To be precise, the list is a collection of **integers**.\n",
        "\n",
        "In both the grocery and roster lists, there is a collection of strings.\n",
        "\n",
        "Using the **grade** list above, the scores can be printed easily.\n",
        "```python\n",
        "print(grades)\n",
        "```\n",
        "\n",
        "The same can be done with any list. Simply use the print function with the name of the list as a parameter.\n",
        "```python\n",
        "print(groceries)\n",
        "```"
      ],
      "metadata": {
        "id": "_DFLp5vTPLkT"
      }
    },
    {
      "cell_type": "code",
      "source": [
        "print(grades)"
      ],
      "metadata": {
        "colab": {
          "base_uri": "https://localhost:8080/"
        },
        "id": "63klTIYrPiJo",
        "outputId": "c56b1573-e1e1-443e-95d4-c2cf151a4b9a"
      },
      "execution_count": null,
      "outputs": [
        {
          "output_type": "stream",
          "name": "stdout",
          "text": [
            "[85, 90, 78, 99, 89, 100, 100, 0]\n"
          ]
        }
      ]
    },
    {
      "cell_type": "markdown",
      "source": [
        "## Elements of a List\n",
        "Each piece of data stored in a list is an **element**.\n",
        "```python\n",
        "periodicTable = ['Fe','Au','Pu','H']\n",
        "```\n",
        "The periodicTable list above has 4 elements."
      ],
      "metadata": {
        "id": "BUe43p67KOir"
      }
    },
    {
      "cell_type": "markdown",
      "source": [
        "## Printing Lists with a Loop\n",
        "It's often nicer to print lists using a **for** loop. This will allow for a neater appearance.\n",
        "\n",
        "Recall that when using a plain print command like...\n",
        "```python\n",
        "print(grades)\n",
        "```\n",
        "the output appeared with brackets and commas like...\n",
        "```plaintext\n",
        "[85, 90, 78, 99, 89, 100, 100, 0]\n",
        "```"
      ],
      "metadata": {
        "id": "aU2lRiFsPl_t"
      }
    },
    {
      "cell_type": "code",
      "source": [
        "for gradeTemp in grades:\n",
        "  print(gradeTemp)\n",
        "  # do something else\n",
        "  print('something else')"
      ],
      "metadata": {
        "colab": {
          "base_uri": "https://localhost:8080/"
        },
        "id": "qRCzVpngPlk5",
        "outputId": "42c3ceee-a946-4ebd-e406-45dbec4c64af"
      },
      "execution_count": null,
      "outputs": [
        {
          "output_type": "stream",
          "name": "stdout",
          "text": [
            "90\n",
            "something else\n",
            "80\n",
            "something else\n",
            "70\n",
            "something else\n"
          ]
        }
      ]
    },
    {
      "cell_type": "markdown",
      "source": [
        "With for loops, the printing of each element is better controlled. Each element can appear on a line by itself, like the example. You can also print each element with special formatting or any other way you please."
      ],
      "metadata": {
        "id": "EZ45xsOJL7Dr"
      }
    },
    {
      "cell_type": "markdown",
      "source": [
        "## Printing with For Loops and String Concatenation\n",
        "You might like to print more than just the value of each individual element of the list. String concatenation is one simply way to do this.\n",
        "\n",
        "Take each element, treat it as a string, and join it with any combination of strings you like.\n",
        "\n",
        "As a simple example, if you would like to greet each student in your class, try the example below."
      ],
      "metadata": {
        "id": "p7VkQT-iKAqN"
      }
    },
    {
      "cell_type": "code",
      "source": [
        "print(roster)\n",
        "for name in roster:\n",
        "  message = \"Hello, \" + name + \"!\"\n",
        "  print(message)"
      ],
      "metadata": {
        "colab": {
          "base_uri": "https://localhost:8080/"
        },
        "id": "kTLtRRazMmM3",
        "outputId": "87e94816-35e0-4ef5-b91d-c7af268feae1"
      },
      "execution_count": null,
      "outputs": [
        {
          "output_type": "stream",
          "name": "stdout",
          "text": [
            "['James', 'Jain', 'Claire', 'Ahmed', 'Brody']\n",
            "Hello, James!\n",
            "Hello, Jain!\n",
            "Hello, Claire!\n",
            "Hello, Ahmed!\n",
            "Hello, Brody!\n"
          ]
        }
      ]
    },
    {
      "cell_type": "markdown",
      "source": [
        "### Why use lists?\n",
        "Lists have some powerful tools built-in.\n",
        "\n",
        "You don't need any fancy code to sum a list. ***NOTE*** *summing a list, means to add up all of the values in the list*."
      ],
      "metadata": {
        "id": "eE1YGbDZP4YB"
      }
    },
    {
      "cell_type": "code",
      "source": [
        "# Summing a list is easy!\n",
        "print(grades)\n",
        "total = sum(grades)\n",
        "print(total)"
      ],
      "metadata": {
        "colab": {
          "base_uri": "https://localhost:8080/"
        },
        "id": "IEfbfJA9QNEx",
        "outputId": "9a4e94ae-d12b-43da-ab59-cea2963db337"
      },
      "execution_count": null,
      "outputs": [
        {
          "output_type": "stream",
          "name": "stdout",
          "text": [
            "[85, 90, 78, 99, 89, 100, 100, 0]\n",
            "641\n"
          ]
        }
      ]
    },
    {
      "cell_type": "markdown",
      "source": [
        "Imagine tracking grades with a bunch of variables and then trying to sum them! Actually, you don't need to imagine. Check out this ugly example below."
      ],
      "metadata": {
        "id": "pzSY2ajaQSCN"
      }
    },
    {
      "cell_type": "code",
      "source": [
        "# Ugly example without a list!\n",
        "grade1 = 85\n",
        "grade2 = 90\n",
        "grade3 = 78\n",
        "grade4 = 99\n",
        "grade5 = 89\n",
        "grade6 = 100\n",
        "grade7 = 100\n",
        "grade8 = 0\n",
        "grade9 = 100\n",
        "\n",
        "# Now sum ALL of those individual variables!\n",
        "total = grade9 + grade1 + grade2 + grade3 + grade4 + grade5 + grade6 + grade7 + grade8\n",
        "print(total)"
      ],
      "metadata": {
        "colab": {
          "base_uri": "https://localhost:8080/"
        },
        "id": "I90VKIFiQdbV",
        "outputId": "cbc649d8-1b76-4276-bd5c-bef8a5c3fc26"
      },
      "execution_count": null,
      "outputs": [
        {
          "output_type": "stream",
          "name": "stdout",
          "text": [
            "741\n"
          ]
        }
      ]
    },
    {
      "cell_type": "markdown",
      "source": [
        "With the 'ugly example' above, imagine adding or taking away a grade. You would need to rewrite multiple lines of code. Lists help to avoid this issue and are neater looking."
      ],
      "metadata": {
        "id": "pSgUMCBMM72H"
      }
    },
    {
      "cell_type": "markdown",
      "source": [
        "### Average a List\n",
        "Since calculating a sum is so simple...\n",
        "```python\n",
        "sum(listName)\n",
        "```\n",
        "Calculating an average is also going to be a breeze.\n",
        "\n",
        "The algorithm for calculating an average follows.\n",
        "1. Sum all of the values\n",
        "1. Count all of the values\n",
        "1. Divide the sum by the count of values.\n",
        "\n",
        "For example, assume the values 80, 90, and 100.\n",
        "1. 80 + 90 + 100 = 270\n",
        "1. count = 3\n",
        "1. 270 / 3 = 90\n",
        "\n",
        "We already know how to sum a list. Counting the items in a list is also easy! Use the len() function.\n",
        "```python\n",
        "len(listName)\n",
        "```"
      ],
      "metadata": {
        "id": "FYPtqoDWQ7MD"
      }
    },
    {
      "cell_type": "code",
      "source": [
        "grades = [85, 90, 78, 99, 89, 100, 100, 0, 100, 72, 0]"
      ],
      "metadata": {
        "id": "9wYwN3adh7rB"
      },
      "execution_count": null,
      "outputs": []
    },
    {
      "cell_type": "code",
      "source": [
        "print(grades)\n",
        "countOfGrades = len(grades)\n",
        "total = sum(grades)\n",
        "average = total / countOfGrades\n",
        "print(average)"
      ],
      "metadata": {
        "colab": {
          "base_uri": "https://localhost:8080/"
        },
        "id": "qyoKs_7gTu_g",
        "outputId": "a4a34dab-c48c-49c3-ca23-69de90f86aa9"
      },
      "execution_count": null,
      "outputs": [
        {
          "output_type": "stream",
          "name": "stdout",
          "text": [
            "[85, 90, 78, 99, 89, 100, 100, 0, 100, 72, 0]\n",
            "73.9090909090909\n"
          ]
        }
      ]
    },
    {
      "cell_type": "markdown",
      "source": [
        "## Functions\n",
        "We aren't discussing functions today, but this averaging algorithm is going to be useful later in these notes. To save time and space, I'm going to **define** a function for averaging a list."
      ],
      "metadata": {
        "id": "ZHfd55cQUs25"
      }
    },
    {
      "cell_type": "code",
      "source": [
        "def averageList(listHere):\n",
        "  countOfGrades = len(listHere)\n",
        "  total = sum(listHere)\n",
        "  average = total / countOfGrades\n",
        "  return average\n"
      ],
      "metadata": {
        "id": "QVJppdtnU5_y"
      },
      "execution_count": null,
      "outputs": []
    },
    {
      "cell_type": "markdown",
      "source": [
        "## More Advanced with Lists\n",
        "For these next few tricks, I'll only offer examples. In the future, we will dive deeper, explain, and understand.\n",
        "\n",
        "Assume you are tracking your grades in a list. Now we'll code up a few common situations.\n",
        "\n",
        "1. Your class took another test and you earned a new grade of 78\n",
        "1. You made up a missing assignment and replaced the 0 with a 98 \n",
        "1. Your teacher dropped your lowest grade"
      ],
      "metadata": {
        "id": "1wz7fGxHT-6i"
      }
    },
    {
      "cell_type": "code",
      "source": [
        "# This is is the list for the three examples.\n",
        "grades = [85, 90, 78, 99, 89, 100, 100, 0]\n"
      ],
      "metadata": {
        "id": "DijD2xoFOLed"
      },
      "execution_count": null,
      "outputs": []
    },
    {
      "cell_type": "code",
      "source": [
        "# Example #1\n",
        "# Your class took another test and you earned a new grade of 78\n",
        "averageBefore = str(averageList(grades))\n",
        "\n",
        "print(\"List before: \" + str(grades))\n",
        "newTestGrade = 78\n",
        "grades.append(newTestGrade)\n",
        "print(\"List after: \" + str(grades))\n",
        "\n",
        "averageAfter = str(averageList(grades))\n",
        "\n",
        "print(\"Average before the new test: \" + averageBefore)\n",
        "print(\"Average after the new test: \" + averageAfter)\n",
        "print() # blank line"
      ],
      "metadata": {
        "colab": {
          "base_uri": "https://localhost:8080/"
        },
        "id": "zNRmRsiDUaf4",
        "outputId": "5960927a-7f02-4e95-8100-898735f17e28"
      },
      "execution_count": null,
      "outputs": [
        {
          "output_type": "stream",
          "name": "stdout",
          "text": [
            "List before: [85, 90, 78, 99, 89, 100, 100, 0]\n",
            "List after: [85, 90, 78, 99, 89, 100, 100, 0, 78]\n",
            "Average before the new test: 80.125\n",
            "Average after the new test: 79.88888888888889\n",
            "\n"
          ]
        }
      ]
    },
    {
      "cell_type": "code",
      "source": [
        "# Example #2\n",
        "# You made up the missing assignment and replaced the 0 with a 98\n",
        "averageBefore = str(averageList(grades))\n",
        "\n",
        "print(\"List after: \" + str(grades))\n",
        "grades.remove(0)\n",
        "grades.append(98)\n",
        "print(\"List after: \" + str(grades))\n",
        "\n",
        "averageAfter = str(averageList(grades))\n",
        "\n",
        "print(\"Average before the makeup: \" + averageBefore)\n",
        "print(\"Average after the makeup: \" + averageAfter)\n",
        "print() # blank line"
      ],
      "metadata": {
        "colab": {
          "base_uri": "https://localhost:8080/"
        },
        "id": "BQ9sQr6qV_It",
        "outputId": "11220946-c0bb-46f0-8a16-355a114ed87e"
      },
      "execution_count": null,
      "outputs": [
        {
          "output_type": "stream",
          "name": "stdout",
          "text": [
            "List after: [85, 90, 78, 99, 89, 100, 100, 0, 78]\n",
            "List after: [85, 90, 78, 99, 89, 100, 100, 78, 98]\n",
            "Average before the makeup: 79.88888888888889\n",
            "Average after the makeup: 90.77777777777777\n",
            "\n"
          ]
        }
      ]
    },
    {
      "cell_type": "code",
      "source": [
        "# Example #3\n",
        "# Your teacher dropped you lowest grade\n",
        "averageBefore = str(averageList(grades))\n",
        "\n",
        "print(\"List after: \" + str(grades))\n",
        "lowestGrade = min(grades)\n",
        "grades.remove(lowestGrade)\n",
        "print(\"List after: \" + str(grades))\n",
        "\n",
        "averageAfter = str(averageList(grades))\n",
        "\n",
        "print(\"Average before the drop: \" + averageBefore)\n",
        "print(\"Average after the drop: \" + averageAfter)\n",
        "print() # blank line"
      ],
      "metadata": {
        "colab": {
          "base_uri": "https://localhost:8080/"
        },
        "id": "76a5AuyRWA8m",
        "outputId": "dc471dea-93a5-4359-bd4a-b2d136aad3e7"
      },
      "execution_count": null,
      "outputs": [
        {
          "output_type": "stream",
          "name": "stdout",
          "text": [
            "List after: [90, 99, 100, 100]\n",
            "List after: [99, 100, 100]\n",
            "Average before the drop: 97.25\n",
            "Average after the drop: 99.66666666666667\n",
            "\n"
          ]
        }
      ]
    },
    {
      "cell_type": "markdown",
      "source": [
        "## Append and Remove Elements\n",
        "In the three examples above you should have noticed the functions append and remove. These are the methods for adding and removing elements from a list.\n",
        "\n",
        "**Append** means to **add** to the **end**. If a list already has elements in it, appending a new element will result in the new element appearing after the preexisting elements.\n",
        "```python\n",
        "names = ['simon', 'claire', 'francis']\n",
        "names.append('Kai')\n",
        "```\n",
        "After appending 'Kai' to the list, it will appear like this.\n",
        "```python\n",
        "['simon', 'claire', 'francis', 'Kai']\n",
        "```"
      ],
      "metadata": {
        "id": "7bKICAEqOhsb"
      }
    },
    {
      "cell_type": "code",
      "source": [
        "names = ['simon', 'claire', 'francis']\n",
        "\n",
        "print('list before appending: ' + str(names))\n",
        "\n",
        "names.append('Kai')\n",
        "\n",
        "print('list after appending: ' + str(names))\n",
        "\n",
        "names.append('jack')\n",
        "\n",
        "print('list after appending again: ' + str(names))\n"
      ],
      "metadata": {
        "colab": {
          "base_uri": "https://localhost:8080/"
        },
        "id": "Td2oVVRTPdjl",
        "outputId": "62fd8fa3-ccf3-4ca8-d3df-44db605faf2c"
      },
      "execution_count": null,
      "outputs": [
        {
          "output_type": "stream",
          "name": "stdout",
          "text": [
            "list before appending: ['simon', 'claire', 'francis']\n",
            "list after appending: ['simon', 'claire', 'francis', 'Kai']\n",
            "list after appending again: ['simon', 'claire', 'francis', 'Kai', 'jack']\n"
          ]
        }
      ]
    },
    {
      "cell_type": "markdown",
      "source": [
        "### Remove\n",
        "Removing elements works in much the same way. Use the remove() function and pass the value you want removed as a parameter. If the value is in the list more than once, only the first occurence will be removed."
      ],
      "metadata": {
        "id": "AclWVs67PvQt"
      }
    },
    {
      "cell_type": "code",
      "source": [
        "names = ['simon', 'simon', 'claire', 'francis', 'Kai', 'simon']\n",
        "print(names)\n",
        "names.remove('simon')\n",
        "print(names)\n",
        "names.remove('simon')\n",
        "print(names)"
      ],
      "metadata": {
        "colab": {
          "base_uri": "https://localhost:8080/"
        },
        "id": "RxTatm1mQCaw",
        "outputId": "56baa531-e687-4d6e-ef17-36ee04aa0a34"
      },
      "execution_count": null,
      "outputs": [
        {
          "output_type": "stream",
          "name": "stdout",
          "text": [
            "['simon', 'simon', 'claire', 'francis', 'Kai', 'simon']\n",
            "['simon', 'claire', 'francis', 'Kai', 'simon']\n",
            "['claire', 'francis', 'Kai', 'simon']\n"
          ]
        }
      ]
    },
    {
      "cell_type": "markdown",
      "source": [
        "## Ordered and the Index\n",
        "Lists are ordered data structures. This means that the data is accessible using an **index**. This does NOT mean that lists sort, alphabetize, or rank elements automatically.\n",
        "\n",
        "Each element's index is an integer value that represents where in the list the element is held.\n",
        "\n",
        "The first element in the list has an index of ZERO. Each following element has an index one greater than the previous element.\n",
        "```python\n",
        "names = ['simon', 'claire', 'francis', 'Kai']\n",
        "```\n",
        "In the list of names the index for 'simon' is 0. 'claire' has an index of 1. 'Kai' has an index of 3."
      ],
      "metadata": {
        "id": "l5cYSdIhQTDe"
      }
    },
    {
      "cell_type": "markdown",
      "source": [
        "### Using the index\n",
        "Indexes are useful if you know you want to do something with a particular element in the list. If you want to replace an element, you could try something like this.\n",
        "```python\n",
        "names[2] = 'Nara'\n",
        "```"
      ],
      "metadata": {
        "id": "Ac6H03xDRgAb"
      }
    },
    {
      "cell_type": "code",
      "source": [
        "names = ['claire', 'francis', 'Kai', 'simon']\n",
        "print(names)\n",
        "names[2] = 'Nara'\n",
        "print(names)\n"
      ],
      "metadata": {
        "colab": {
          "base_uri": "https://localhost:8080/"
        },
        "id": "79C0RR_yR2wT",
        "outputId": "4c480b8c-b3a2-4f18-80aa-ccad73c157a5"
      },
      "execution_count": null,
      "outputs": [
        {
          "output_type": "stream",
          "name": "stdout",
          "text": [
            "['claire', 'francis', 'Kai', 'simon']\n",
            "['claire', 'francis', 'Nara', 'simon']\n"
          ]
        }
      ]
    },
    {
      "cell_type": "markdown",
      "source": [
        "## Sort, Min, Max\n",
        "Sort lists with the sort function. The sort function can alphabetize strings and order numeric values.\n",
        "```python\n",
        "sort(listname)\n",
        "```\n",
        "Find the min or max of a list with min() and max().\n",
        "```python\n",
        "lowest = min(scores)\n",
        "highest = max(scores)\n",
        "```"
      ],
      "metadata": {
        "id": "VFkkJ0tbWmYd"
      }
    },
    {
      "cell_type": "code",
      "source": [
        "print('Sort example with grades')\n",
        "print(grades)\n",
        "grades.sort()\n",
        "print(grades)\n",
        "print()\n",
        "\n",
        "print('min max examples with scores')\n",
        "scores = [102, 98, 107, 78, 123, 141]\n",
        "\n",
        "lowest = min(scores)\n",
        "highest = max(scores)\n",
        "\n",
        "print('The lowest value in the list is ' + str(lowest))\n",
        "print('The largest value in the list is ' + str(highest))\n",
        "print(scores)"
      ],
      "metadata": {
        "colab": {
          "base_uri": "https://localhost:8080/"
        },
        "id": "fjYqJ09RWtUu",
        "outputId": "276e6ac6-d92e-436d-afdb-ae95cfcf2016"
      },
      "execution_count": null,
      "outputs": [
        {
          "output_type": "stream",
          "name": "stdout",
          "text": [
            "Sort example with grades\n",
            "[0, 78, 85, 89, 90, 99, 100, 100]\n",
            "[0, 78, 85, 89, 90, 99, 100, 100]\n",
            "\n",
            "min max examples with scores\n",
            "The lowest value in the list is 78\n",
            "The largest value in the list is 141\n",
            "[102, 98, 107, 78, 123, 141]\n"
          ]
        }
      ]
    },
    {
      "cell_type": "markdown",
      "source": [
        "# Example with Lists\n",
        "In this example, I will implement a gradebook that allows a student to add grades to a list and view their average. Note, the example starts with an empty list. As the programmer, you have no way of knowing what grades the student has, but you still need to prepare the list."
      ],
      "metadata": {
        "id": "BqPKNRHOSQzO"
      }
    },
    {
      "cell_type": "code",
      "source": [
        "grades = []\n",
        "\n",
        "userInput = ''\n",
        "\n",
        "while userInput != 'q':\n",
        "  userInput = input('Enter a grade or \"q\" to quit: ')\n",
        "  if not userInput.isdecimal():\n",
        "    if not userInput =='q':\n",
        "      print('Enter a number or \"q\" to quit')\n",
        "    continue\n",
        "  grades.append(int(userInput))\n",
        "\n",
        "#\n",
        "total = sum(grades)\n",
        "count = len(grades)\n",
        "average = total / count\n",
        "\n",
        "print(\"Your average is \" + str(average))\n",
        "\n",
        "# Try the challenges after this point."
      ],
      "metadata": {
        "colab": {
          "base_uri": "https://localhost:8080/"
        },
        "id": "kU68rTrpSbxp",
        "outputId": "d619f96c-59cc-47c9-82dd-08a49ef4b960"
      },
      "execution_count": null,
      "outputs": [
        {
          "output_type": "stream",
          "name": "stdout",
          "text": [
            "Enter a grade or \"q\" to quit: 0\n",
            "Enter a grade or \"q\" to quit: 0\n",
            "Enter a grade or \"q\" to quit: 90\n",
            "Enter a grade or \"q\" to quit: 100\n",
            "Enter a grade or \"q\" to quit: q\n",
            "Your average is 47.5\n"
          ]
        }
      ]
    },
    {
      "cell_type": "markdown",
      "source": [
        "Using the code above, try the following. Write your code after the comment.\n",
        "```python\n",
        "# Try the challenges after this point.\n",
        "```\n",
        "When you finish the challenges, try something on your own or mess with the code example further.\n",
        "## Challenges\n",
        "1. Drop the lowest grade and print the new average.\n",
        "1. Replace a grade in the list using its index.\n",
        "1. Sort the list and then print it."
      ],
      "metadata": {
        "id": "R5U8yjf8UgpD"
      }
    }
  ]
}