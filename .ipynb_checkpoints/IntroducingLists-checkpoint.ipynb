{
 "cells": [
  {
   "cell_type": "markdown",
   "metadata": {
    "id": "dbb68k9TvQo5"
   },
   "source": [
    "# Introducing Lists"
   ]
  },
  {
   "cell_type": "markdown",
   "metadata": {
    "id": "MIKLmYYBz5P6"
   },
   "source": [
    "## Jupyter Notebook\n",
    "You can follow along and try all of the code examples by following the link in the description for this Jupyter Notebook.\n",
    "\n",
    "If you don't have Jupyter Notebook installed, open the notebook with Google Colab.\n",
    "\n",
    "[Click here to access the Jupyter Notebook on GitHub](https://github.com/lrwham/PythonLessons/blob/main/IntroducingLists.ipynb)\n",
    "\n",
    "[Click here to access the Jupyter Notebook on Google Colab](https://colab.research.google.com/github/lrwham/PythonLessons/blob/main/IntroducingLists.ipynb)"
   ]
  },
  {
   "cell_type": "markdown",
   "metadata": {
    "id": "PNosmBrfciMa"
   },
   "source": [
    "## Objectives\n",
    "This series is intended for two audiences.\n",
    "1. Anyone who is learning coding and Python for the first time.\n",
    "1. Those with some basic coding experience, but learning Python.\n",
    "### Part 1 Objectives\n",
    "In the first part of this series we'll discuss what lists are in general terms. This applies to lists in any language, not just Python. We'll also look at how to create and print lists in Python.\n",
    "### Part 2 Objectives\n",
    "In part two, we'll discuss why lists are useful and offer an example where lists make solving a real-world problem simpler.\n",
    "### Part 3 Objectives\n",
    "In part three, you'll learn to add and remove elements. We'll discuss what an **index** is and how to use it to access individual \n",
    "### Part 4 Objectives\n",
    "In part four, we'll explore the sort(), min(), and max() functions. You'll also learn to use user input to add elements to a list. There are two example programs. Finally, I'll leave you with a few challenges to try on your own."
   ]
  },
  {
   "cell_type": "markdown",
   "metadata": {
    "id": "2NUheEV6n30F"
   },
   "source": [
    "## Before Starting\n",
    "Before following this series, make sure you understand the following.\n",
    "1. Know how to create the classic 'Hello, World!' example.\n",
    "1. Be able to create simple variables and print them.\n",
    "1. Use Python to complete basic arithmetic like addition, subtraction, multiplication, and division.\n",
    "1. Joining multiple strings to create a large message.\n",
    "\n",
    "If you can create the following example on your own, you're ready to move."
   ]
  },
  {
   "cell_type": "code",
   "execution_count": 1,
   "metadata": {
    "colab": {
     "base_uri": "https://localhost:8080/"
    },
    "id": "WDHRW90en80U",
    "outputId": "0a020d76-3959-4a4d-929e-f7e1a5eb5831",
    "tags": []
   },
   "outputs": [
    {
     "name": "stdout",
     "output_type": "stream",
     "text": [
      "Hello, World!\n",
      "36\n",
      "323\n",
      "Hello Simon\n"
     ]
    }
   ],
   "source": [
    "print('Hello, World!')\n",
    "\n",
    "num1 = 19\n",
    "num2 = 17\n",
    "total = num1 + num2\n",
    "product = num1 * num2\n",
    "print(total)\n",
    "print(product)\n",
    "\n",
    "name = 'Simon'\n",
    "print('Hello ' + name)"
   ]
  },
  {
   "cell_type": "markdown",
   "metadata": {
    "id": "BXPFmyu6wS1U"
   },
   "source": [
    "## Part 1"
   ]
  },
  {
   "cell_type": "markdown",
   "metadata": {
    "id": "mFFYAXDjOZDw",
    "tags": []
   },
   "source": [
    "### Definition\n",
    "Lists are **collections** of items.\n",
    "* grocery list\n",
    "* to-do list\n",
    "* store inventory\n",
    "* list of objectives in a game.\n",
    "\n",
    "```plaintext\n",
    "Grocery List\n",
    "1. sugar\n",
    "2. milk\n",
    "3. bread\n",
    "4. spinach\n",
    "```\n",
    "\n",
    "In computer science, lists are a **data structure**. That means they hold data in an organized structure so the data can be used productively.\n",
    "\n",
    "Specifically, a list is an **ordered** collection of data. We'll discuss more later about what ordered means.\n",
    "\n",
    "In Python and other languages, lists are collections of other data types like integers, strings, and floats.\n",
    "\n",
    "For example...\n",
    "1. A grocery list collects the items you want to purchase and would be stored in a list of **strings**\n",
    "1. A roster collects the name of students in a class and would also be a list of **strings**\n",
    "1. A grade tracker might collect and hold all the grades for a student in a particular class. Grades can be stored as **integers** or **floats** depending on how accurate they need to be.\n"
   ]
  },
  {
   "cell_type": "code",
   "execution_count": 2,
   "metadata": {
    "id": "-y-Mv8F_PCsF",
    "tags": []
   },
   "outputs": [],
   "source": [
    "groceries = ['apples', 'milk', 'bread', 'paper towels'] # strings\n",
    "roster = ['James', 'Jain', 'Claire', 'Ahmed', 'Brody'] # strings\n",
    "grades = [85, 90, 78, 99, 89, 100, 100, 0] # Integers\n",
    "gradesAsFloats = [97.6, 88.2, 89.4, 72.0, 65.2] # Floats"
   ]
  },
  {
   "cell_type": "markdown",
   "metadata": {
    "id": "_DFLp5vTPLkT"
   },
   "source": [
    "In the example above, the variable **grades** holds a list. The list is a collection of numbers. To be precise, the list is a collection of **integers**.\n",
    "\n",
    "In both the grocery and roster lists, there is a collection of strings.\n",
    "\n",
    "Using the **grade** list above, the scores can be printed easily.\n",
    "```python\n",
    "print(grades)\n",
    "```\n",
    "\n",
    "The same can be done with any list. Simply use the print function with the name of the list as a parameter.\n",
    "```python\n",
    "print(groceries)\n",
    "```"
   ]
  },
  {
   "cell_type": "code",
   "execution_count": 3,
   "metadata": {
    "colab": {
     "base_uri": "https://localhost:8080/"
    },
    "id": "63klTIYrPiJo",
    "outputId": "fdafb712-89c9-45a9-c5a7-d6c13d4d9584"
   },
   "outputs": [
    {
     "name": "stdout",
     "output_type": "stream",
     "text": [
      "[85, 90, 78, 99, 89, 100, 100, 0]\n"
     ]
    }
   ],
   "source": [
    "print(grades)"
   ]
  },
  {
   "cell_type": "markdown",
   "metadata": {
    "id": "BUe43p67KOir"
   },
   "source": [
    "### Elements of a List\n",
    "Each piece of data stored in a list is an **element**.\n",
    "```python\n",
    "periodicTable = ['Fe','Au','Pu','H']\n",
    "```\n",
    "The periodicTable list above has 4 elements.\n",
    "\n",
    "```python\n",
    "groceryList = ['dozen eggs', 'bread', 'milk']\n",
    "```\n",
    "The groceryList list has 3 elements.\n",
    "```python\n",
    "grades = [78, 99, 100, 0, 80, 75]\n",
    "```\n",
    "The grades list has 5 elements."
   ]
  },
  {
   "cell_type": "markdown",
   "metadata": {
    "id": "aU2lRiFsPl_t"
   },
   "source": [
    "### Printing Lists with a Loop\n",
    "It's often nicer to print lists using a **for** loop. This will allow for a neater appearance.\n",
    "\n",
    "Recall that when using a plain print command like...\n",
    "```python\n",
    "print(grades)\n",
    "```\n",
    "the output appeared with brackets and commas like...\n",
    "```plaintext\n",
    "[85, 90, 78, 99, 89, 100, 100, 0]\n",
    "```"
   ]
  },
  {
   "cell_type": "markdown",
   "metadata": {
    "id": "99mJgnzcyCSr"
   },
   "source": [
    "#### For Loop\n",
    "Using a for loop allows each element to be printed one at a time. A for loop also gives you the opportunity to do something else each time an element is printed."
   ]
  },
  {
   "cell_type": "code",
   "execution_count": 4,
   "metadata": {
    "id": "UcA9APuhx9Vl"
   },
   "outputs": [],
   "source": [
    "grades = [85, 90, 78, 99, 89, 100, 100, 0]"
   ]
  },
  {
   "cell_type": "code",
   "execution_count": 5,
   "metadata": {
    "colab": {
     "base_uri": "https://localhost:8080/"
    },
    "id": "qRCzVpngPlk5",
    "outputId": "06bead17-42bb-4021-b97a-4cc85530aaf9"
   },
   "outputs": [
    {
     "name": "stdout",
     "output_type": "stream",
     "text": [
      "85\n",
      "something else\n",
      "90\n",
      "something else\n",
      "78\n",
      "something else\n",
      "99\n",
      "something else\n",
      "89\n",
      "something else\n",
      "100\n",
      "something else\n",
      "100\n",
      "something else\n",
      "0\n",
      "something else\n"
     ]
    }
   ],
   "source": [
    "for gradeTemp in grades:\n",
    "  print(gradeTemp)\n",
    "  # do something else\n",
    "  print('something else')"
   ]
  },
  {
   "cell_type": "markdown",
   "metadata": {
    "id": "EZ45xsOJL7Dr"
   },
   "source": [
    "With for loops, the printing of each element is better controlled. Each element can appear on a line by itself, like the example. You can also print each element with special formatting or any other way you please."
   ]
  },
  {
   "cell_type": "markdown",
   "metadata": {
    "id": "p7VkQT-iKAqN"
   },
   "source": [
    "#### String Concatenation\n",
    "You might like to print more than just the value of each individual element of the list. String concatenation is one simply way to do this.\n",
    "\n",
    "Take each element, treat it as a string, and join it with any combination of strings you like.\n",
    "\n",
    "As a simple example, if you would like to greet each student in your class, try the example below."
   ]
  },
  {
   "cell_type": "code",
   "execution_count": 6,
   "metadata": {
    "id": "FT--kXKUynUw"
   },
   "outputs": [],
   "source": [
    "roster = ['James', 'Jain', 'Claire', 'Ahmed', 'Brody']"
   ]
  },
  {
   "cell_type": "code",
   "execution_count": 7,
   "metadata": {
    "colab": {
     "base_uri": "https://localhost:8080/"
    },
    "id": "kTLtRRazMmM3",
    "outputId": "f5a31c05-65c3-4d83-8fdf-9ed3f2db07c5"
   },
   "outputs": [
    {
     "name": "stdout",
     "output_type": "stream",
     "text": [
      "['James', 'Jain', 'Claire', 'Ahmed', 'Brody']\n",
      "Hello, James!\n",
      "Hello, Jain!\n",
      "Hello, Claire!\n",
      "Hello, Ahmed!\n",
      "Hello, Brody!\n"
     ]
    }
   ],
   "source": [
    "print(roster)\n",
    "for name in roster:\n",
    "  message = \"Hello, \" + name + \"!\"\n",
    "  print(message)"
   ]
  },
  {
   "cell_type": "markdown",
   "metadata": {
    "id": "oE8bwvRmyrcb"
   },
   "source": [
    "If the list contains elements that are not already strings, you will need to cast the elements as strings using `int()`"
   ]
  },
  {
   "cell_type": "code",
   "execution_count": 8,
   "metadata": {
    "id": "2a-0TImDyqcR"
   },
   "outputs": [],
   "source": [
    "grades = [85, 90, 78, 99, 89, 100, 100, 0]"
   ]
  },
  {
   "cell_type": "code",
   "execution_count": 9,
   "metadata": {
    "colab": {
     "base_uri": "https://localhost:8080/"
    },
    "id": "g9duAoZ2yvhS",
    "outputId": "0c3fdd74-b5c4-4b3e-cad8-ee33e28345d9"
   },
   "outputs": [
    {
     "name": "stdout",
     "output_type": "stream",
     "text": [
      "You earned a 85.\n",
      "You earned a 90.\n",
      "You earned a 78.\n",
      "You earned a 99.\n",
      "You earned a 89.\n",
      "You earned a 100.\n",
      "You earned a 100.\n",
      "You earned a 0.\n"
     ]
    }
   ],
   "source": [
    "for grade in grades:\n",
    "  message = 'You earned a ' + str(grade) + '.'\n",
    "  print(message)"
   ]
  },
  {
   "cell_type": "markdown",
   "metadata": {
    "id": "rzUO5_dKvaXi"
   },
   "source": [
    "## Part 2"
   ]
  },
  {
   "cell_type": "markdown",
   "metadata": {
    "id": "eE1YGbDZP4YB"
   },
   "source": [
    "### Why use lists?\n",
    "* Lists have some powerful tools built-in.\n",
    "* Lists can make code neater and easier to read.\n",
    "* Lists logically collect related data.\n",
    "\n",
    "You don't need any fancy code to sum a list.\n",
    "**NOTE** \"*to sum a list*\", means to add up all of the values in the list."
   ]
  },
  {
   "cell_type": "code",
   "execution_count": 10,
   "metadata": {
    "colab": {
     "base_uri": "https://localhost:8080/"
    },
    "id": "IEfbfJA9QNEx",
    "outputId": "feef3209-3205-41e3-da14-9d9dec593409"
   },
   "outputs": [
    {
     "name": "stdout",
     "output_type": "stream",
     "text": [
      "[85, 90, 78, 99, 89, 100, 100, 0]\n",
      "641\n"
     ]
    }
   ],
   "source": [
    "# Summing a list is easy!\n",
    "print(grades)\n",
    "total = sum(grades)\n",
    "print(total)"
   ]
  },
  {
   "cell_type": "markdown",
   "metadata": {
    "id": "pzSY2ajaQSCN"
   },
   "source": [
    "Imagine tracking grades with a bunch of variables and then trying to sum them! Actually, you don't need to imagine. Check out this ugly example below."
   ]
  },
  {
   "cell_type": "code",
   "execution_count": 11,
   "metadata": {
    "colab": {
     "base_uri": "https://localhost:8080/"
    },
    "id": "I90VKIFiQdbV",
    "outputId": "35c35c86-89f7-4bb4-e75b-bdb4d612dacb"
   },
   "outputs": [
    {
     "name": "stdout",
     "output_type": "stream",
     "text": [
      "741\n"
     ]
    }
   ],
   "source": [
    "# Ugly example without a list!\n",
    "grade1 = 85\n",
    "grade2 = 90\n",
    "grade3 = 78\n",
    "grade4 = 99\n",
    "grade5 = 89\n",
    "grade6 = 100\n",
    "grade7 = 100\n",
    "grade8 = 0\n",
    "grade9 = 100\n",
    "\n",
    "# Now sum ALL of those individual variables!\n",
    "total = grade9 + grade1 + grade2 + grade3 + grade4 + grade5 + grade6 + grade7 + grade8\n",
    "print(total)"
   ]
  },
  {
   "cell_type": "markdown",
   "metadata": {
    "id": "pSgUMCBMM72H"
   },
   "source": [
    "With the 'ugly example' above, imagine adding or taking away a grade. You would need to rewrite multiple lines of code. Lists help to avoid this issue and are neater looking."
   ]
  },
  {
   "cell_type": "markdown",
   "metadata": {
    "id": "FYPtqoDWQ7MD"
   },
   "source": [
    "### Average a List\n",
    "Since calculating a sum is so simple...\n",
    "```python\n",
    "sum(listName)\n",
    "```\n",
    "Calculating an average is also going to be a breeze.\n",
    "\n",
    "The algorithm for calculating an average follows.\n",
    "1. Sum all of the values\n",
    "1. Count all of the values\n",
    "1. Divide the sum by the count of values.\n",
    "\n",
    "For example, assume the values 80, 90, and 100.\n",
    "1. 80 + 90 + 100 = 270\n",
    "1. count = 3\n",
    "1. 270 / 3 = 90\n",
    "\n",
    "We already know how to sum a list. Counting the items in a list is also easy! Use the len() function.\n",
    "```python\n",
    "len(listName)\n",
    "```"
   ]
  },
  {
   "cell_type": "code",
   "execution_count": 12,
   "metadata": {
    "id": "9wYwN3adh7rB"
   },
   "outputs": [],
   "source": [
    "grades = [85, 90, 78, 99, 89, 100, 100, 0, 100, 72, 0]"
   ]
  },
  {
   "cell_type": "code",
   "execution_count": 13,
   "metadata": {
    "colab": {
     "base_uri": "https://localhost:8080/"
    },
    "id": "qyoKs_7gTu_g",
    "outputId": "5f5a5398-2d81-46e2-d21a-5c62768d6f80"
   },
   "outputs": [
    {
     "name": "stdout",
     "output_type": "stream",
     "text": [
      "[85, 90, 78, 99, 89, 100, 100, 0, 100, 72, 0]\n",
      "73.9090909090909\n"
     ]
    }
   ],
   "source": [
    "print(grades)\n",
    "countOfGrades = len(grades)\n",
    "total = sum(grades)\n",
    "average = total / countOfGrades\n",
    "print(average)"
   ]
  },
  {
   "cell_type": "markdown",
   "metadata": {
    "id": "0TSihQFdvolk"
   },
   "source": [
    "## Part 3"
   ]
  },
  {
   "cell_type": "markdown",
   "metadata": {
    "id": "ZHfd55cQUs25"
   },
   "source": [
    "### Functions\n",
    "We aren't discussing functions today, but this averaging algorithm is going to be useful later in this series. We demonstrated the algorithm in part 2. To save time and space going forward, I'm going to **define** a function for averaging a list.\n",
    "\n",
    "This will allow me to calculate an average by simply writing `average = averageList(nameOfList)`\n",
    "\n",
    "This is similar to how we can print something with a single line of code as in `print('Hello, World!')`.\n",
    "\n",
    "Effectively, we are teaching the computer a new skill permenantly."
   ]
  },
  {
   "cell_type": "code",
   "execution_count": 6,
   "metadata": {
    "id": "QVJppdtnU5_y"
   },
   "outputs": [],
   "source": [
    "def averageList(listHere):\n",
    "  countOfGrades = len(listHere)\n",
    "  total = sum(listHere)\n",
    "  average = total / countOfGrades\n",
    "  return average\n"
   ]
  },
  {
   "cell_type": "code",
   "execution_count": 25,
   "metadata": {
    "colab": {
     "base_uri": "https://localhost:8080/"
    },
    "id": "7y-RzrcV1ZsN",
    "outputId": "921dcb47-659b-49c5-8504-fd9c69d2b653"
   },
   "outputs": [
    {
     "name": "stdout",
     "output_type": "stream",
     "text": [
      "[25, 28, 29, 32]\n",
      "The average age is 28.5\n"
     ]
    }
   ],
   "source": [
    "# Quick example using the new averageList() function\n",
    "ages = [25, 28, 29, 32]\n",
    "averageAge = averageList(ages) # calculate the average\n",
    "print(ages)\n",
    "print('The average age is ' + str(averageAge))"
   ]
  },
  {
   "cell_type": "markdown",
   "metadata": {
    "id": "1wz7fGxHT-6i"
   },
   "source": [
    "### Case Studies\n",
    "Assume you are tracking your grades in a list. Now we'll code up a few common situations.\n",
    "\n",
    "1. Your class took another test and you earned a new grade of 78\n",
    "1. You made up a missing assignment and replaced the 0 with a 98 \n",
    "1. Your teacher dropped your lowest grade"
   ]
  },
  {
   "cell_type": "code",
   "execution_count": 15,
   "metadata": {
    "id": "DijD2xoFOLed"
   },
   "outputs": [],
   "source": [
    "# This is is the list for the three examples.\n",
    "grades = [85, 90, 78, 99, 89, 100, 100, 0]\n"
   ]
  },
  {
   "cell_type": "code",
   "execution_count": 16,
   "metadata": {
    "colab": {
     "base_uri": "https://localhost:8080/"
    },
    "id": "zNRmRsiDUaf4",
    "outputId": "58d37d47-e943-4d1d-f605-2f0b66f0cd77"
   },
   "outputs": [
    {
     "name": "stdout",
     "output_type": "stream",
     "text": [
      "List before: [85, 90, 78, 99, 89, 100, 100, 0]\n",
      "List after: [85, 90, 78, 99, 89, 100, 100, 0, 78]\n",
      "Average before the new test: 80.125\n",
      "Average after the new test: 79.88888888888889\n",
      "\n"
     ]
    }
   ],
   "source": [
    "# Example #1\n",
    "# Your class took another test and you earned a new grade of 78\n",
    "averageBefore = str(averageList(grades))\n",
    "\n",
    "print(\"List before: \" + str(grades))\n",
    "newTestGrade = 78\n",
    "grades.append(newTestGrade)\n",
    "print(\"List after: \" + str(grades))\n",
    "\n",
    "averageAfter = str(averageList(grades))\n",
    "\n",
    "print(\"Average before the new test: \" + averageBefore)\n",
    "print(\"Average after the new test: \" + averageAfter)\n",
    "print() # blank line"
   ]
  },
  {
   "cell_type": "code",
   "execution_count": 17,
   "metadata": {
    "colab": {
     "base_uri": "https://localhost:8080/"
    },
    "id": "BQ9sQr6qV_It",
    "outputId": "32e35b78-4d60-452d-897a-9de115af197e"
   },
   "outputs": [
    {
     "name": "stdout",
     "output_type": "stream",
     "text": [
      "List after: [85, 90, 78, 99, 89, 100, 100, 0, 78]\n",
      "List after: [85, 90, 78, 99, 89, 100, 100, 78, 98]\n",
      "Average before the makeup: 79.88888888888889\n",
      "Average after the makeup: 90.77777777777777\n",
      "\n"
     ]
    }
   ],
   "source": [
    "# Example #2\n",
    "# You made up the missing assignment and replaced the 0 with a 98\n",
    "averageBefore = str(averageList(grades))\n",
    "\n",
    "print(\"List after: \" + str(grades))\n",
    "grades.remove(0)\n",
    "grades.append(98)\n",
    "print(\"List after: \" + str(grades))\n",
    "\n",
    "averageAfter = str(averageList(grades))\n",
    "\n",
    "print(\"Average before the makeup: \" + averageBefore)\n",
    "print(\"Average after the makeup: \" + averageAfter)\n",
    "print() # blank line"
   ]
  },
  {
   "cell_type": "code",
   "execution_count": 18,
   "metadata": {
    "colab": {
     "base_uri": "https://localhost:8080/"
    },
    "id": "76a5AuyRWA8m",
    "outputId": "f67f8cf4-dd16-4ec2-980c-7f2c86918db8"
   },
   "outputs": [
    {
     "name": "stdout",
     "output_type": "stream",
     "text": [
      "List after: [85, 90, 78, 99, 89, 100, 100, 78, 98]\n",
      "List after: [85, 90, 99, 89, 100, 100, 78, 98]\n",
      "Average before the drop: 90.77777777777777\n",
      "Average after the drop: 92.375\n",
      "\n"
     ]
    }
   ],
   "source": [
    "# Example #3\n",
    "# Your teacher dropped you lowest grade\n",
    "averageBefore = str(averageList(grades))\n",
    "\n",
    "print(\"List after: \" + str(grades))\n",
    "lowestGrade = min(grades)\n",
    "grades.remove(lowestGrade)\n",
    "print(\"List after: \" + str(grades))\n",
    "\n",
    "averageAfter = str(averageList(grades))\n",
    "\n",
    "print(\"Average before the drop: \" + averageBefore)\n",
    "print(\"Average after the drop: \" + averageAfter)\n",
    "print() # blank line"
   ]
  },
  {
   "cell_type": "markdown",
   "metadata": {
    "id": "xxTShCrIvwro"
   },
   "source": [
    "### Append and Remove Elements\n",
    "In the three examples above you should have noticed the functions append and remove. These are the methods for adding and removing elements from a list."
   ]
  },
  {
   "cell_type": "markdown",
   "metadata": {
    "id": "7bKICAEqOhsb"
   },
   "source": [
    "#### Append\n",
    "\n",
    "**Append** means to **add** to the **end**. If a list already has elements in it, appending a new element will result in the new element appearing after the preexisting elements.\n",
    "```python\n",
    "names = ['simon', 'claire', 'francis']\n",
    "names.append('Kai')\n",
    "```\n",
    "After appending 'Kai' to the list, it will appear like this.\n",
    "```python\n",
    "['simon', 'claire', 'francis', 'Kai']\n",
    "```"
   ]
  },
  {
   "cell_type": "code",
   "execution_count": 19,
   "metadata": {
    "colab": {
     "base_uri": "https://localhost:8080/"
    },
    "id": "Td2oVVRTPdjl",
    "outputId": "6b235cfb-75c6-4715-911e-203e05c0e796"
   },
   "outputs": [
    {
     "name": "stdout",
     "output_type": "stream",
     "text": [
      "list before appending: ['simon', 'claire', 'francis']\n",
      "list after appending: ['simon', 'claire', 'francis', 'Kai']\n",
      "list after appending again: ['simon', 'claire', 'francis', 'Kai', 'jack']\n"
     ]
    }
   ],
   "source": [
    "names = ['simon', 'claire', 'francis']\n",
    "\n",
    "print('list before appending: ' + str(names))\n",
    "\n",
    "names.append('Kai')\n",
    "\n",
    "print('list after appending: ' + str(names))\n",
    "\n",
    "names.append('jack')\n",
    "\n",
    "print('list after appending again: ' + str(names))\n"
   ]
  },
  {
   "cell_type": "markdown",
   "metadata": {
    "id": "AclWVs67PvQt"
   },
   "source": [
    "#### Remove\n",
    "Removing elements works in much the same way. Use the remove() function and pass the value you want removed as a parameter. If the value is in the list more than once, only the first occurence will be removed."
   ]
  },
  {
   "cell_type": "code",
   "execution_count": 20,
   "metadata": {
    "colab": {
     "base_uri": "https://localhost:8080/"
    },
    "id": "RxTatm1mQCaw",
    "outputId": "38cedcf1-becd-4129-bd42-cbb287ea6b20"
   },
   "outputs": [
    {
     "name": "stdout",
     "output_type": "stream",
     "text": [
      "['simon', 'simon', 'claire', 'francis', 'Kai', 'simon']\n",
      "['simon', 'claire', 'francis', 'Kai', 'simon']\n",
      "['claire', 'francis', 'Kai', 'simon']\n"
     ]
    }
   ],
   "source": [
    "names = ['simon', 'simon', 'claire', 'francis', 'Kai', 'simon']\n",
    "print(names)\n",
    "names.remove('simon')\n",
    "print(names)\n",
    "names.remove('simon')\n",
    "print(names)"
   ]
  },
  {
   "cell_type": "markdown",
   "metadata": {
    "id": "l5cYSdIhQTDe"
   },
   "source": [
    "### Ordered and the Index\n",
    "Lists are ordered data structures. This means that the data is accessible using an **index**. This does NOT mean that lists sort, alphabetize, or rank elements automatically.\n",
    "\n",
    "Each element's index is an integer value that represents where in the list the element is held.\n",
    "\n",
    "The first element in the list has an index of ZERO. Each following element has an index one greater than the previous element.\n",
    "```python\n",
    "names = ['simon', 'claire', 'francis', 'Kai']\n",
    "```\n",
    "In the list of names the index for 'simon' is 0. 'claire' has an index of 1. 'Kai' has an index of 3."
   ]
  },
  {
   "cell_type": "markdown",
   "metadata": {
    "id": "Ac6H03xDRgAb"
   },
   "source": [
    "#### Using the index\n",
    "Indexes are useful if you know you want to do something with a particular element in the list. If you want to replace an element, you could try something like this.\n",
    "```python\n",
    "names[2] = 'Nara'\n",
    "```"
   ]
  },
  {
   "cell_type": "code",
   "execution_count": 21,
   "metadata": {
    "colab": {
     "base_uri": "https://localhost:8080/"
    },
    "id": "79C0RR_yR2wT",
    "outputId": "0896fc6c-ebbb-4628-ca75-e03b106f6442"
   },
   "outputs": [
    {
     "name": "stdout",
     "output_type": "stream",
     "text": [
      "['claire', 'francis', 'Kai', 'simon']\n",
      "['claire', 'francis', 'Nara', 'simon']\n"
     ]
    }
   ],
   "source": [
    "names = ['claire', 'francis', 'Kai', 'simon']\n",
    "print(names)\n",
    "names[2] = 'Nara'\n",
    "print(names)\n"
   ]
  },
  {
   "cell_type": "markdown",
   "metadata": {
    "id": "UwUUPHoUv-9m"
   },
   "source": [
    "## Part 4"
   ]
  },
  {
   "cell_type": "markdown",
   "metadata": {
    "id": "VFkkJ0tbWmYd"
   },
   "source": [
    "### Sort, Min, Max\n",
    "Sort lists with the sort function. The sort function can alphabetize strings and order numeric values.\n",
    "```python\n",
    "sort(listname)\n",
    "```\n",
    "Find the min or max of a list with min() and max().\n",
    "```python\n",
    "lowest = min(scores)\n",
    "highest = max(scores)\n",
    "```"
   ]
  },
  {
   "cell_type": "code",
   "execution_count": 22,
   "metadata": {
    "colab": {
     "base_uri": "https://localhost:8080/"
    },
    "id": "fjYqJ09RWtUu",
    "outputId": "e1795cb2-9cea-4d99-f929-275b38eb7562"
   },
   "outputs": [
    {
     "name": "stdout",
     "output_type": "stream",
     "text": [
      "Sort example with grades\n",
      "[85, 90, 99, 89, 100, 100, 78, 98]\n",
      "[78, 85, 89, 90, 98, 99, 100, 100]\n",
      "\n",
      "min max examples with scores\n",
      "The lowest value in the list is 78\n",
      "The largest value in the list is 141\n",
      "[102, 98, 107, 78, 123, 141]\n"
     ]
    }
   ],
   "source": [
    "print('Sort example with grades')\n",
    "print(grades)\n",
    "grades.sort()\n",
    "print(grades)\n",
    "print()\n",
    "\n",
    "print('min max examples with scores')\n",
    "scores = [102, 98, 107, 78, 123, 141]\n",
    "\n",
    "lowest = min(scores)\n",
    "highest = max(scores)\n",
    "\n",
    "print('The lowest value in the list is ' + str(lowest))\n",
    "print('The largest value in the list is ' + str(highest))\n",
    "print(scores)"
   ]
  },
  {
   "cell_type": "markdown",
   "metadata": {
    "id": "pyhiZGcbfBvn"
   },
   "source": [
    "### User Input and Lists\n",
    "In Python, user input can be collected with the `input()` function.\n",
    "\n",
    "`input()` prompts the user to enter a response. Typically, a text prompet is passed to the function like `input('Enter one of your favorite foods: ')`.\n",
    "\n",
    "In that example, the user might respond with `'pasta'`. We can add that to a list of favorite foods by using the `append()` function we discuss earlier in Part 3.\n",
    "\n",
    "```python\n",
    "favoriteFoods = []\n",
    "favoriteFoods.append(input('Enter one of your favorite foods: '))\n",
    "```\n",
    "\n",
    "Where we intend the user to enter numbers like integers and floats, we need to take extra care. The `input()` function **always** returns a string. If the user enters the digit `3`, the function will return `'3'`. If the user enters `7.4`, the `input()` function will return `'7.4'`, a **string**.\n",
    "\n",
    "If you are asking the user to enter numbers, you must tell Python to convert the input to a number as in the example below. Use the `int()` function. As a side note, we often need to turn integers back into strings so we can `print()` them. Use `str()` to turn a variable into a printable string."
   ]
  },
  {
   "cell_type": "code",
   "execution_count": 7,
   "metadata": {
    "colab": {
     "base_uri": "https://localhost:8080/"
    },
    "id": "wkkv8T4lgrzM",
    "outputId": "5a53ea18-af78-470a-a391-dd10f8b2f665"
   },
   "outputs": [
    {
     "name": "stdout",
     "output_type": "stream",
     "text": [
      "Enter your score on hole 1: 7\n",
      "Enter your score on hole 2: 6\n",
      "Enter your score on hole 3: 5\n",
      "Enter your score on hole 4: 4\n",
      "Enter your score on hole 5: 5\n",
      "Enter your score on hole 6: 6\n",
      "Enter your score on hole 7: 5\n",
      "Enter your score on hole 8: 4\n",
      "Enter your score on hole 9: 5\n",
      "Enter your score on hole 10: 5\n",
      "Enter your score on hole 11: 4\n",
      "Enter your score on hole 12: 5\n",
      "Enter your score on hole 13: 5\n",
      "Enter your score on hole 14: 5\n",
      "Enter your score on hole 15: 5\n",
      "Enter your score on hole 16: 6\n",
      "Enter your score on hole 17: 5\n",
      "Enter your score on hole 18: 5\n",
      "For each hole, you swung an average of 5.111111111111111 times.\n",
      "[7, 6, 5, 4, 5, 6, 5, 4, 5, 5, 4, 5, 5, 5, 5, 6, 5, 5]\n"
     ]
    }
   ],
   "source": [
    "# Golf Scores\n",
    "# This example will calculate the average swings per hole for a game of 18 holes.\n",
    "\n",
    "scorePerHole = []\n",
    "\n",
    "for i in range(18):\n",
    "  score = input(\"Enter your score on hole \" + str(i+1) + \": \")\n",
    "  score = int(score)\n",
    "\n",
    "  scorePerHole.append(score)\n",
    "\n",
    "averageSwings = averageList(scorePerHole)\n",
    "\n",
    "print(\"For each hole, you swung an average of \" + str(averageSwings) + \" times.\")\n",
    "print(scorePerHole)"
   ]
  },
  {
   "cell_type": "markdown",
   "metadata": {
    "id": "BqPKNRHOSQzO"
   },
   "source": [
    "### Gradebook Example with Lists\n",
    "In this example, we'll will implement a gradebook that allows a student to add grades to a list and view their average.\n",
    "\n",
    "Note, the example starts with an **empty list**. As the programmer, you have no way of knowing what grades the student has, but you still need to prepare the list."
   ]
  },
  {
   "cell_type": "code",
   "execution_count": 24,
   "metadata": {
    "colab": {
     "base_uri": "https://localhost:8080/"
    },
    "id": "kU68rTrpSbxp",
    "outputId": "8f9af91f-1025-47c7-81d0-f14a53bc69aa"
   },
   "outputs": [
    {
     "name": "stdout",
     "output_type": "stream",
     "text": [
      "Enter a grade or \"q\" to quit: 90\n",
      "Enter a grade or \"q\" to quit: 90\n",
      "Enter a grade or \"q\" to quit: 90\n",
      "Enter a grade or \"q\" to quit: 100\n",
      "Enter a grade or \"q\" to quit: 100\n",
      "Enter a grade or \"q\" to quit: 100\n",
      "Enter a grade or \"q\" to quit: q\n",
      "Your average is 95.0\n"
     ]
    }
   ],
   "source": [
    "grades = []\n",
    "\n",
    "userInput = ''\n",
    "\n",
    "while userInput != 'q':\n",
    "  userInput = input('Enter a grade or \"q\" to quit: ')\n",
    "  if not userInput.isdecimal():\n",
    "    if not userInput =='q':\n",
    "      print('Enter a number or \"q\" to quit')\n",
    "    continue\n",
    "  grades.append(int(userInput))\n",
    "\n",
    "#\n",
    "total = sum(grades)\n",
    "count = len(grades)\n",
    "average = total / count\n",
    "\n",
    "print(\"Your average is \" + str(average))\n",
    "\n",
    "# Try the challenges after this point."
   ]
  },
  {
   "cell_type": "markdown",
   "metadata": {
    "id": "R5U8yjf8UgpD"
   },
   "source": [
    "Using the code above, try the following. Write your code after the comment.\n",
    "```python\n",
    "# Try the challenges after this point.\n",
    "```\n",
    "When you finish the challenges, try something on your own or mess with the code example further.\n",
    "### Challenges\n",
    "1. Drop the lowest grade and print the new average.\n",
    "1. Replace a grade in the list using its index.\n",
    "1. Sort the list and then print it."
   ]
  },
  {
   "cell_type": "markdown",
   "metadata": {
    "id": "ilX3yNjT2ehD"
   },
   "source": [
    "#&copy; 2023 Lawton Willingham"
   ]
  }
 ],
 "metadata": {
  "colab": {
   "authorship_tag": "ABX9TyMhl/6HPlkm7mJ6FMExyKQ9",
   "include_colab_link": true,
   "provenance": [],
   "toc_visible": true
  },
  "kernelspec": {
   "display_name": "Python 3 (ipykernel)",
   "language": "python",
   "name": "python3"
  },
  "language_info": {
   "codemirror_mode": {
    "name": "ipython",
    "version": 3
   },
   "file_extension": ".py",
   "mimetype": "text/x-python",
   "name": "python",
   "nbconvert_exporter": "python",
   "pygments_lexer": "ipython3",
   "version": "3.11.0"
  }
 },
 "nbformat": 4,
 "nbformat_minor": 4
}
