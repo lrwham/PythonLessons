{
  "nbformat": 4,
  "nbformat_minor": 0,
  "metadata": {
    "colab": {
      "provenance": [],
      "toc_visible": true,
      "authorship_tag": "ABX9TyPTFuYyggxHn0dfXnKlEsTB",
      "include_colab_link": true
    },
    "kernelspec": {
      "name": "python3",
      "display_name": "Python 3"
    },
    "language_info": {
      "name": "python"
    }
  },
  "cells": [
    {
      "cell_type": "markdown",
      "metadata": {
        "id": "view-in-github",
        "colab_type": "text"
      },
      "source": [
        "<a href=\"https://colab.research.google.com/github/lrwham/PythonLessons/blob/main/IntroducingListsPart1.ipynb\" target=\"_parent\"><img src=\"https://colab.research.google.com/assets/colab-badge.svg\" alt=\"Open In Colab\"/></a>"
      ]
    },
    {
      "cell_type": "markdown",
      "source": [
        "# Introducing Lists Part 1\n",
        "Lists are **collections** of items.\n",
        "* grocery list\n",
        "* to-do list\n",
        "* inventory\n",
        "* list of objectives in a game.\n",
        "\n",
        "In computer science, lists are a **data structure**. That means they hold data in an organized structure so the data can be used productively.\n",
        "\n",
        "Specifically, a list is an **ordered** set of data. We'll discuss more later about what ordered means.\n",
        "\n",
        "In Python and other languages, lists can hold collections of other data types like integers, strings, and floats.\n",
        "\n",
        "For example...\n",
        "1. A grocery list collects the items you want to purchase and would be stored in a list of **strings**\n",
        "1. a roster collects the name of students in a class and would also be a list of **strings**\n",
        "1. a grade tracker might collect and hold all the grades for a student in a particular class. Grades can be stored as **integers** or **floats** depending on how accurate they need to be.\n"
      ],
      "metadata": {
        "id": "mFFYAXDjOZDw"
      }
    },
    {
      "cell_type": "code",
      "source": [
        "groceries = ['apples', 'milk', 'bread', 'paper towels']\n",
        "roster = ['James', 'Jain', 'Claire', 'Ahmed', 'Brody']\n",
        "grades = [85, 90, 78, 99, 89, 100, 100, 0]\n",
        "gradesAsFloats = [97.6, 88.2, 89.4, 72.0, 65.2]"
      ],
      "metadata": {
        "id": "-y-Mv8F_PCsF"
      },
      "execution_count": null,
      "outputs": []
    },
    {
      "cell_type": "markdown",
      "source": [
        "In the example above, the variable **grades** holds a list. The list is a collection of numbers. To be precise, the list is a collection of **integers**.\n",
        "\n",
        "In both the grocery and roster lists, there is a collection of strings.\n",
        "\n",
        "Using the **grade** list above, the scores can be printed easily.\n",
        "```python\n",
        "print(grades)\n",
        "```\n",
        "\n",
        "The same can be done with any list. Simply use the print function with the name of the list as a parameter.\n",
        "```python\n",
        "print(groceries)\n",
        "```"
      ],
      "metadata": {
        "id": "_DFLp5vTPLkT"
      }
    },
    {
      "cell_type": "code",
      "source": [
        "print(grades)"
      ],
      "metadata": {
        "colab": {
          "base_uri": "https://localhost:8080/"
        },
        "id": "63klTIYrPiJo",
        "outputId": "c56b1573-e1e1-443e-95d4-c2cf151a4b9a"
      },
      "execution_count": null,
      "outputs": [
        {
          "output_type": "stream",
          "name": "stdout",
          "text": [
            "[85, 90, 78, 99, 89, 100, 100, 0]\n"
          ]
        }
      ]
    },
    {
      "cell_type": "markdown",
      "source": [
        "## Elements of a List\n",
        "Each piece of data stored in a list is an **element**.\n",
        "```python\n",
        "periodicTable = ['Fe','Au','Pu','H']\n",
        "```\n",
        "The periodicTable list above has 4 elements."
      ],
      "metadata": {
        "id": "BUe43p67KOir"
      }
    },
    {
      "cell_type": "markdown",
      "source": [
        "## Printing Lists with a Loop\n",
        "It's often nicer to print lists using a **for** loop. This will allow for a neater appearance.\n",
        "\n",
        "Recall that when using a plain print command like...\n",
        "```python\n",
        "print(grades)\n",
        "```\n",
        "the output appeared with brackets and commas like...\n",
        "```plaintext\n",
        "[85, 90, 78, 99, 89, 100, 100, 0]\n",
        "```"
      ],
      "metadata": {
        "id": "aU2lRiFsPl_t"
      }
    },
    {
      "cell_type": "code",
      "source": [
        "for gradeTemp in grades:\n",
        "  print(gradeTemp)\n",
        "  # do something else\n",
        "  print('something else')"
      ],
      "metadata": {
        "colab": {
          "base_uri": "https://localhost:8080/"
        },
        "id": "qRCzVpngPlk5",
        "outputId": "42c3ceee-a946-4ebd-e406-45dbec4c64af"
      },
      "execution_count": null,
      "outputs": [
        {
          "output_type": "stream",
          "name": "stdout",
          "text": [
            "90\n",
            "something else\n",
            "80\n",
            "something else\n",
            "70\n",
            "something else\n"
          ]
        }
      ]
    },
    {
      "cell_type": "markdown",
      "source": [
        "With for loops, the printing of each element is better controlled. Each element can appear on a line by itself, like the example. You can also print each element with special formatting or any other way you please."
      ],
      "metadata": {
        "id": "EZ45xsOJL7Dr"
      }
    },
    {
      "cell_type": "markdown",
      "source": [
        "## Printing with For Loops and String Concatenation\n",
        "You might like to print more than just the value of each individual element of the list. String concatenation is one simply way to do this.\n",
        "\n",
        "Take each element, treat it as a string, and join it with any combination of strings you like.\n",
        "\n",
        "As a simple example, if you would like to greet each student in your class, try the example below."
      ],
      "metadata": {
        "id": "p7VkQT-iKAqN"
      }
    },
    {
      "cell_type": "code",
      "source": [
        "print(roster)\n",
        "for name in roster:\n",
        "  message = \"Hello, \" + name + \"!\"\n",
        "  print(message)"
      ],
      "metadata": {
        "colab": {
          "base_uri": "https://localhost:8080/"
        },
        "id": "kTLtRRazMmM3",
        "outputId": "87e94816-35e0-4ef5-b91d-c7af268feae1"
      },
      "execution_count": null,
      "outputs": [
        {
          "output_type": "stream",
          "name": "stdout",
          "text": [
            "['James', 'Jain', 'Claire', 'Ahmed', 'Brody']\n",
            "Hello, James!\n",
            "Hello, Jain!\n",
            "Hello, Claire!\n",
            "Hello, Ahmed!\n",
            "Hello, Brody!\n"
          ]
        }
      ]
    }
  ]
}