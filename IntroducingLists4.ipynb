{
  "nbformat": 4,
  "nbformat_minor": 0,
  "metadata": {
    "colab": {
      "provenance": [],
      "toc_visible": true,
      "authorship_tag": "ABX9TyNvqrDHLZ1myAY3ddWql4wt",
      "include_colab_link": true
    },
    "kernelspec": {
      "name": "python3",
      "display_name": "Python 3"
    },
    "language_info": {
      "name": "python"
    }
  },
  "cells": [
    {
      "cell_type": "markdown",
      "metadata": {
        "id": "view-in-github",
        "colab_type": "text"
      },
      "source": [
        "<a href=\"https://colab.research.google.com/github/lrwham/PythonLessons/blob/main/IntroducingLists4.ipynb\" target=\"_parent\"><img src=\"https://colab.research.google.com/assets/colab-badge.svg\" alt=\"Open In Colab\"/></a>"
      ]
    },
    {
      "cell_type": "markdown",
      "source": [
        "# Introducing Lists part 4"
      ],
      "metadata": {
        "id": "mFFYAXDjOZDw"
      }
    },
    {
      "cell_type": "markdown",
      "source": [
        "## Sort, Min, Max\n",
        "Sort lists with the sort function. The sort function can alphabetize strings and order numeric values.\n",
        "```python\n",
        "sort(listname)\n",
        "```\n",
        "Find the min or max of a list with min() and max().\n",
        "```python\n",
        "lowest = min(scores)\n",
        "highest = max(scores)\n",
        "```"
      ],
      "metadata": {
        "id": "VFkkJ0tbWmYd"
      }
    },
    {
      "cell_type": "code",
      "source": [
        "print('Sort example with grades')\n",
        "print(grades)\n",
        "grades.sort()\n",
        "print(grades)\n",
        "print()\n",
        "\n",
        "print('min max examples with scores')\n",
        "scores = [102, 98, 107, 78, 123, 141]\n",
        "\n",
        "lowest = min(scores)\n",
        "highest = max(scores)\n",
        "\n",
        "print('The lowest value in the list is ' + str(lowest))\n",
        "print('The largest value in the list is ' + str(highest))\n",
        "print(scores)"
      ],
      "metadata": {
        "colab": {
          "base_uri": "https://localhost:8080/"
        },
        "id": "fjYqJ09RWtUu",
        "outputId": "276e6ac6-d92e-436d-afdb-ae95cfcf2016"
      },
      "execution_count": null,
      "outputs": [
        {
          "output_type": "stream",
          "name": "stdout",
          "text": [
            "Sort example with grades\n",
            "[0, 78, 85, 89, 90, 99, 100, 100]\n",
            "[0, 78, 85, 89, 90, 99, 100, 100]\n",
            "\n",
            "min max examples with scores\n",
            "The lowest value in the list is 78\n",
            "The largest value in the list is 141\n",
            "[102, 98, 107, 78, 123, 141]\n"
          ]
        }
      ]
    },
    {
      "cell_type": "markdown",
      "source": [
        "# Example with Lists\n",
        "In this example, I will implement a gradebook that allows a student to add grades to a list and view their average. Note, the example starts with an empty list. As the programmer, you have no way of knowing what grades the student has, but you still need to prepare the list."
      ],
      "metadata": {
        "id": "BqPKNRHOSQzO"
      }
    },
    {
      "cell_type": "code",
      "source": [
        "grades = []\n",
        "\n",
        "userInput = ''\n",
        "\n",
        "while userInput != 'q':\n",
        "  userInput = input('Enter a grade or \"q\" to quit: ')\n",
        "  if not userInput.isdecimal():\n",
        "    if not userInput =='q':\n",
        "      print('Enter a number or \"q\" to quit')\n",
        "    continue\n",
        "  grades.append(int(userInput))\n",
        "\n",
        "#\n",
        "total = sum(grades)\n",
        "count = len(grades)\n",
        "average = total / count\n",
        "\n",
        "print(\"Your average is \" + str(average))\n",
        "\n",
        "# Try the challenges after this point."
      ],
      "metadata": {
        "colab": {
          "base_uri": "https://localhost:8080/"
        },
        "id": "kU68rTrpSbxp",
        "outputId": "d619f96c-59cc-47c9-82dd-08a49ef4b960"
      },
      "execution_count": null,
      "outputs": [
        {
          "output_type": "stream",
          "name": "stdout",
          "text": [
            "Enter a grade or \"q\" to quit: 0\n",
            "Enter a grade or \"q\" to quit: 0\n",
            "Enter a grade or \"q\" to quit: 90\n",
            "Enter a grade or \"q\" to quit: 100\n",
            "Enter a grade or \"q\" to quit: q\n",
            "Your average is 47.5\n"
          ]
        }
      ]
    },
    {
      "cell_type": "markdown",
      "source": [
        "Using the code above, try the following. Write your code after the comment.\n",
        "```python\n",
        "# Try the challenges after this point.\n",
        "```\n",
        "When you finish the challenges, try something on your own or mess with the code example further.\n",
        "## Challenges\n",
        "1. Drop the lowest grade and print the new average.\n",
        "1. Replace a grade in the list using its index.\n",
        "1. Sort the list and then print it."
      ],
      "metadata": {
        "id": "R5U8yjf8UgpD"
      }
    }
  ]
}