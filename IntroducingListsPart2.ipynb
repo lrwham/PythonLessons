{
  "nbformat": 4,
  "nbformat_minor": 0,
  "metadata": {
    "colab": {
      "provenance": [],
      "toc_visible": true,
      "authorship_tag": "ABX9TyPioYdAXcOlnPpHrSW5ECMf",
      "include_colab_link": true
    },
    "kernelspec": {
      "name": "python3",
      "display_name": "Python 3"
    },
    "language_info": {
      "name": "python"
    }
  },
  "cells": [
    {
      "cell_type": "markdown",
      "metadata": {
        "id": "view-in-github",
        "colab_type": "text"
      },
      "source": [
        "<a href=\"https://colab.research.google.com/github/lrwham/PythonLessons/blob/main/IntroducingListsPart2.ipynb\" target=\"_parent\"><img src=\"https://colab.research.google.com/assets/colab-badge.svg\" alt=\"Open In Colab\"/></a>"
      ]
    },
    {
      "cell_type": "markdown",
      "source": [
        "# Introducing Lists Part 2\n",
        "\n"
      ],
      "metadata": {
        "id": "mFFYAXDjOZDw"
      }
    },
    {
      "cell_type": "markdown",
      "source": [
        "### Why use lists?\n",
        "Lists have some powerful tools built-in.\n",
        "\n",
        "You don't need any fancy code to sum a list. ***NOTE*** *summing a list, means to add up all of the values in the list*."
      ],
      "metadata": {
        "id": "eE1YGbDZP4YB"
      }
    },
    {
      "cell_type": "code",
      "source": [
        "# Summing a list is easy!\n",
        "print(grades)\n",
        "total = sum(grades)\n",
        "print(total)"
      ],
      "metadata": {
        "colab": {
          "base_uri": "https://localhost:8080/"
        },
        "id": "IEfbfJA9QNEx",
        "outputId": "9a4e94ae-d12b-43da-ab59-cea2963db337"
      },
      "execution_count": null,
      "outputs": [
        {
          "output_type": "stream",
          "name": "stdout",
          "text": [
            "[85, 90, 78, 99, 89, 100, 100, 0]\n",
            "641\n"
          ]
        }
      ]
    },
    {
      "cell_type": "markdown",
      "source": [
        "Imagine tracking grades with a bunch of variables and then trying to sum them! Actually, you don't need to imagine. Check out this ugly example below."
      ],
      "metadata": {
        "id": "pzSY2ajaQSCN"
      }
    },
    {
      "cell_type": "code",
      "source": [
        "# Ugly example without a list!\n",
        "grade1 = 85\n",
        "grade2 = 90\n",
        "grade3 = 78\n",
        "grade4 = 99\n",
        "grade5 = 89\n",
        "grade6 = 100\n",
        "grade7 = 100\n",
        "grade8 = 0\n",
        "grade9 = 100\n",
        "\n",
        "# Now sum ALL of those individual variables!\n",
        "total = grade9 + grade1 + grade2 + grade3 + grade4 + grade5 + grade6 + grade7 + grade8\n",
        "print(total)"
      ],
      "metadata": {
        "colab": {
          "base_uri": "https://localhost:8080/"
        },
        "id": "I90VKIFiQdbV",
        "outputId": "cbc649d8-1b76-4276-bd5c-bef8a5c3fc26"
      },
      "execution_count": null,
      "outputs": [
        {
          "output_type": "stream",
          "name": "stdout",
          "text": [
            "741\n"
          ]
        }
      ]
    },
    {
      "cell_type": "markdown",
      "source": [
        "With the 'ugly example' above, imagine adding or taking away a grade. You would need to rewrite multiple lines of code. Lists help to avoid this issue and are neater looking."
      ],
      "metadata": {
        "id": "pSgUMCBMM72H"
      }
    },
    {
      "cell_type": "markdown",
      "source": [
        "### Average a List\n",
        "Since calculating a sum is so simple...\n",
        "```python\n",
        "sum(listName)\n",
        "```\n",
        "Calculating an average is also going to be a breeze.\n",
        "\n",
        "The algorithm for calculating an average follows.\n",
        "1. Sum all of the values\n",
        "1. Count all of the values\n",
        "1. Divide the sum by the count of values.\n",
        "\n",
        "For example, assume the values 80, 90, and 100.\n",
        "1. 80 + 90 + 100 = 270\n",
        "1. count = 3\n",
        "1. 270 / 3 = 90\n",
        "\n",
        "We already know how to sum a list. Counting the items in a list is also easy! Use the len() function.\n",
        "```python\n",
        "len(listName)\n",
        "```"
      ],
      "metadata": {
        "id": "FYPtqoDWQ7MD"
      }
    },
    {
      "cell_type": "code",
      "source": [
        "grades = [85, 90, 78, 99, 89, 100, 100, 0, 100, 72, 0]"
      ],
      "metadata": {
        "id": "9wYwN3adh7rB"
      },
      "execution_count": null,
      "outputs": []
    },
    {
      "cell_type": "code",
      "source": [
        "print(grades)\n",
        "countOfGrades = len(grades)\n",
        "total = sum(grades)\n",
        "average = total / countOfGrades\n",
        "print(average)"
      ],
      "metadata": {
        "colab": {
          "base_uri": "https://localhost:8080/"
        },
        "id": "qyoKs_7gTu_g",
        "outputId": "a4a34dab-c48c-49c3-ca23-69de90f86aa9"
      },
      "execution_count": null,
      "outputs": [
        {
          "output_type": "stream",
          "name": "stdout",
          "text": [
            "[85, 90, 78, 99, 89, 100, 100, 0, 100, 72, 0]\n",
            "73.9090909090909\n"
          ]
        }
      ]
    }
  ]
}