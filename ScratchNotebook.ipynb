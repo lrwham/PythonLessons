{
 "cells": [
  {
   "cell_type": "code",
   "execution_count": 3,
   "id": "6b771adf-ede8-45b7-a1b5-fe1ab236221e",
   "metadata": {},
   "outputs": [
    {
     "name": "stdout",
     "output_type": "stream",
     "text": [
      "[90, 80, 100]\n"
     ]
    }
   ],
   "source": [
    "grades = [90, 80, 100]\n",
    "print(grades)"
   ]
  },
  {
   "cell_type": "code",
   "execution_count": 8,
   "id": "b5a73263-7c11-49a8-832e-a01cdd1ff3d7",
   "metadata": {},
   "outputs": [
    {
     "name": "stdout",
     "output_type": "stream",
     "text": [
      "90.0\n"
     ]
    }
   ],
   "source": [
    "total = sum(grades)\n",
    "count = len(grades)\n",
    "\n",
    "print(total/count)\n",
    "\n"
   ]
  },
  {
   "cell_type": "code",
   "execution_count": 13,
   "id": "6681cc90-f4db-4f04-9cca-f5e8b83cf470",
   "metadata": {},
   "outputs": [
    {
     "name": "stdout",
     "output_type": "stream",
     "text": [
      "90\n",
      "90\n"
     ]
    }
   ],
   "source": [
    "import statistics as s\n",
    "\n",
    "print(s.mean(grades))\n",
    "print(s.median(grades))"
   ]
  }
 ],
 "metadata": {
  "kernelspec": {
   "display_name": "Python 3 (ipykernel)",
   "language": "python",
   "name": "python3"
  },
  "language_info": {
   "codemirror_mode": {
    "name": "ipython",
    "version": 3
   },
   "file_extension": ".py",
   "mimetype": "text/x-python",
   "name": "python",
   "nbconvert_exporter": "python",
   "pygments_lexer": "ipython3",
   "version": "3.11.0"
  }
 },
 "nbformat": 4,
 "nbformat_minor": 5
}
